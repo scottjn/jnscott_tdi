{
 "cells": [
  {
   "cell_type": "markdown",
   "metadata": {},
   "source": [
    "# Medicare PQRS Scoring Captone Project\n",
    "\n",
    "Completed June 2019 as part of The Data Incubator's Fellowship program\n"
   ]
  },
  {
   "cell_type": "code",
   "execution_count": 1,
   "metadata": {
    "ExecuteTime": {
     "end_time": "2019-06-05T06:54:02.248220Z",
     "start_time": "2019-06-05T06:53:57.137362Z"
    }
   },
   "outputs": [],
   "source": [
    "import re\n",
    "import mpu\n",
    "from datetime import datetime\n",
    "from utils import TextColumnSelectTransformer, load_data, pickle_all, unpickle_all\n",
    "from pathlib import Path\n",
    "import numpy as np\n",
    "import pandas as pd\n",
    "import graphviz\n",
    "import scipy\n",
    "import seaborn as sns\n",
    "from scipy import stats\n",
    "import matplotlib.pyplot as plt\n",
    "import matplotlib.pylab as pylab\n",
    "from sklearn.pipeline import Pipeline\n",
    "from sklearn.pipeline import Pipeline\n",
    "from sklearn.feature_extraction import DictVectorizer\n",
    "from sklearn.model_selection import train_test_split\n",
    "from sklearn.linear_model import Ridge, RidgeCV, LinearRegression, Lasso\n",
    "from sklearn.feature_extraction.text import TfidfTransformer, CountVectorizer \n",
    "from sklearn import model_selection\n",
    "from sklearn.neural_network import MLPRegressor\n",
    "from sklearn.tree import DecisionTreeRegressor, ExtraTreeRegressor\n",
    "from sklearn.model_selection import GridSearchCV, GroupKFold, cross_val_score, ShuffleSplit\n",
    "from sklearn.preprocessing import RobustScaler, StandardScaler\n",
    "from sklearn.decomposition import PCA, TruncatedSVD\n",
    "from sklearn.compose import ColumnTransformer\n",
    "from sklearn.feature_selection import SelectKBest\n",
    "from sklearn.linear_model import SGDClassifier, HuberRegressor, SGDRegressor\n",
    "from sklearn.pipeline import Pipeline\n",
    "from sklearn.tree import DecisionTreeRegressor\n",
    "from sklearn.preprocessing import OneHotEncoder, MultiLabelBinarizer, Normalizer, QuantileTransformer, PowerTransformer, PolynomialFeatures, KBinsDiscretizer\n",
    "from xgboost import XGBRegressor\n",
    "from sklearn.svm import SVR\n",
    "from sklearn import base\n",
    "from collections import defaultdict\n",
    "from sklearn.ensemble import RandomForestRegressor\n",
    "from sklearn.neural_network import MLPRegressor\n",
    "import featuretools as ft\n",
    "# Standard plotly imports\n",
    "\n",
    "import plotly.plotly as py\n",
    "import plotly.graph_objs as go\n",
    "from plotly.offline import iplot, init_notebook_mode\n",
    "# Using plotly + cufflinks in offline mode\n",
    "# import cufflinks\n",
    "# cufflinks.go_offline(connected=True)\n",
    "# init_notebook_mode(connected=True)\n",
    "\n",
    "\n",
    "# params = {'legend.fontsize': 20,\n",
    "#           'figure.figsize': (15, 10),\n",
    "#          'axes.labelsize': 20,\n",
    "#          'axes.titlesize': 20,\n",
    "#          'xtick.labelsize': 20,\n",
    "#          'ytick.labelsize': 20}\n",
    "# pylab.rcParams.update(params)\n",
    "# plt.close('all')\n",
    "\n",
    "## Files are stored in the '2015' and '2016' subdirectories, relative to the working directory\n",
    "#data_path = Path('../jnscott_tdi_data')\n",
    "dp = np.linspace(0,100,11)\n",
    "dy = np.linspace(1945,2020,15)\n",
    "pd.options.display.max_columns = None\n",
    "pd.set_option('display.max_rows', 200)"
   ]
  },
  {
   "cell_type": "markdown",
   "metadata": {},
   "source": [
    "Possible ndf16 variables of interest include:\n",
    "\n",
    "- Numerical: grd_yr\n",
    "- Boolean/Binary: gndr, assgn, pqrs, ehr, mhi\n",
    "- Categorical: \n",
    "\n",
    " - Single category per provider: cred, med_sch, pri_spec\n",
    " - Multiple categories possible: hosp_afl_1,...,hosp_afl_5, sec_spec_1,..., sec_spec_4, org_pac_id, org_pac_id\n",
    " \n",
    "Possible iep16 variables of interest include:\n",
    "\n",
    "- Numerical: patient_count, prf_rate (target)\n",
    "- Boolean/Binary: live_site_ind\n",
    "- Categorical: collection_type\n"
   ]
  },
  {
   "cell_type": "code",
   "execution_count": 2,
   "metadata": {
    "ExecuteTime": {
     "end_time": "2019-06-05T07:01:43.665876Z",
     "start_time": "2019-06-05T06:54:04.965353Z"
    }
   },
   "outputs": [
    {
     "name": "stdout",
     "output_type": "stream",
     "text": [
      "Step 1/30, import takes ~1  minutes, start time is  2019-06-05 00:54:04.967333\n",
      "Done, Finish time is  2019-06-05 01:01:43.619656\n"
     ]
    }
   ],
   "source": [
    "# ndf16, iep16, census_regions, hosps_data, orgs_data, prov_orgs, prov_hosps, \\\n",
    "# prov_sec_specs, hc_star, hc_ans_pct, hc_lin_mean, vocab_dict = load_data()"
   ]
  },
  {
   "cell_type": "code",
   "execution_count": 3,
   "metadata": {
    "ExecuteTime": {
     "end_time": "2019-06-05T07:01:46.568746Z",
     "start_time": "2019-06-05T07:01:43.668868Z"
    }
   },
   "outputs": [
    {
     "name": "stdout",
     "output_type": "stream",
     "text": [
      "df's and vocab_dict saved to disk.\n"
     ]
    }
   ],
   "source": [
    "# pickle_all(ndf16, iep16, census_regions, hosps_data, orgs_data, prov_orgs, \\\n",
    "#            prov_hosps, prov_sec_specs, hc_star, hc_ans_pct, hc_lin_mean, vocab_dict)"
   ]
  },
  {
   "cell_type": "code",
   "execution_count": null,
   "metadata": {
    "ExecuteTime": {
     "end_time": "2019-06-05T04:16:06.679856Z",
     "start_time": "2019-06-05T04:16:04.771357Z"
    }
   },
   "outputs": [],
   "source": [
    "ndf16, iep16, census_regions, hosps_data, orgs_data, prov_orgs, prov_hosps, \\\n",
    "prov_sec_specs, hc_star, hc_ans_pct, hc_lin_mean, vocab_dict = unpickle_all()"
   ]
  },
  {
   "cell_type": "code",
   "execution_count": 4,
   "metadata": {
    "ExecuteTime": {
     "end_time": "2019-06-05T07:01:46.719063Z",
     "start_time": "2019-06-05T07:01:46.571416Z"
    },
    "scrolled": false
   },
   "outputs": [],
   "source": [
    "orgs = (pd.DataFrame(orgs_data.org_pac_id.unique())).rename(index=str, columns={0:'org_pac_id'}).drop_duplicates().dropna()"
   ]
  },
  {
   "cell_type": "code",
   "execution_count": 5,
   "metadata": {
    "ExecuteTime": {
     "end_time": "2019-06-05T07:01:46.753511Z",
     "start_time": "2019-06-05T07:01:46.722595Z"
    }
   },
   "outputs": [],
   "source": [
    "orgs_cols = orgs.columns.tolist()\n",
    "orgs_vartypes = [ft.variable_types.Index]\n",
    "orgs_vardict = dict(zip(orgs_cols, orgs_vartypes))\n",
    "\n",
    "census_regions_cols = census_regions.columns.tolist()\n",
    "census_regions_vartypes = [ft.variable_types.Categorical,\n",
    "                 ft.variable_types.Index,\n",
    "                 ft.variable_types.Categorical,\n",
    "                 ft.variable_types.Categorical]\n",
    "census_regions_vardict = dict(zip(census_regions_cols, census_regions_vartypes))\n",
    "\n",
    "hosps_data_cols = hosps_data.columns.tolist()\n",
    "hosps_data_vartypes = [ft.variable_types.Index,\n",
    "                 ft.variable_types.Categorical,\n",
    "                 ft.variable_types.ZIPCode]\n",
    "hosps_data_vardict = dict(zip(hosps_data_cols, hosps_data_vartypes))\n",
    "\n",
    "hc_lin_mean_cols = hc_lin_mean.columns.tolist()\n",
    "hc_lin_mean_vartypes = [ft.variable_types.Id,\n",
    "                 ft.variable_types.Categorical,\n",
    "                 ft.variable_types.ZIPCode,\n",
    "                 ft.variable_types.Categorical,\n",
    "                 ft.variable_types.Numeric,\n",
    "                 ft.variable_types.Numeric,\n",
    "                 ft.variable_types.Numeric]\n",
    "hc_lin_mean_vardict = dict(zip(hc_lin_mean_cols, hc_lin_mean_vartypes))\n",
    "\n",
    "hc_ans_pct_cols = hc_ans_pct.columns.tolist()\n",
    "hc_ans_pct_vartypes = [ft.variable_types.Id,\n",
    "                 ft.variable_types.Categorical,\n",
    "                 ft.variable_types.ZIPCode,\n",
    "                 ft.variable_types.Categorical,\n",
    "                 ft.variable_types.Numeric,\n",
    "                 ft.variable_types.Numeric,\n",
    "                 ft.variable_types.Numeric]\n",
    "hc_ans_pct_vardict = dict(zip(hc_ans_pct_cols, hc_ans_pct_vartypes))\n",
    "\n",
    "hc_star_cols = hc_star.columns.tolist()\n",
    "hc_star_vartypes = [ft.variable_types.Id,\n",
    "                 ft.variable_types.Categorical,\n",
    "                 ft.variable_types.ZIPCode,\n",
    "                 ft.variable_types.Categorical,\n",
    "                 ft.variable_types.Ordinal,\n",
    "                 ft.variable_types.Numeric,\n",
    "                 ft.variable_types.Numeric]\n",
    "hc_star_vardict = dict(zip(hc_star_cols, hc_star_vartypes))\n",
    "\n",
    "prov_orgs_cols = prov_orgs.columns.tolist()\n",
    "prov_orgs_vartypes = [ft.variable_types.Id,\n",
    "                 ft.variable_types.Id]\n",
    "prov_orgs_vardict = dict(zip(prov_orgs_cols, prov_orgs_vartypes))\n",
    "\n",
    "prov_hosps_cols = prov_hosps.columns.tolist()\n",
    "prov_hosps_vartypes = [ft.variable_types.Id,\n",
    "                 ft.variable_types.Id]\n",
    "prov_hosps_vardict = dict(zip(prov_hosps_cols, prov_hosps_vartypes))\n",
    "\n",
    "prov_sec_specs_cols = prov_sec_specs.columns.tolist()\n",
    "prov_sec_specs_vartypes = [ft.variable_types.Id,\n",
    "                 ft.variable_types.Categorical]\n",
    "prov_sec_specs_vardict = dict(zip(prov_sec_specs_cols, prov_sec_specs_vartypes))\n",
    "\n",
    "orgs_data_cols = orgs_data.columns.tolist()\n",
    "orgs_data_vartypes = [ft.variable_types.Id,\n",
    "                 ft.variable_types.Categorical,\n",
    "                 ft.variable_types.Categorical,\n",
    "                 ft.variable_types.ZIPCode]\n",
    "orgs_data_vardict = dict(zip(orgs_data_cols, orgs_data_vartypes))\n",
    "\n",
    "ndf16_cols = ndf16.columns.tolist()\n",
    "ndf16_vartypes = [ft.variable_types.Index,\n",
    "                 ft.variable_types.Categorical,\n",
    "                 ft.variable_types.Categorical,\n",
    "                 ft.variable_types.Boolean,\n",
    "                 ft.variable_types.Boolean,\n",
    "                 ft.variable_types.Boolean,\n",
    "                 ft.variable_types.Categorical,\n",
    "                 ft.variable_types.Categorical,\n",
    "                 ft.variable_types.Categorical,\n",
    "                 ft.variable_types.Numeric,\n",
    "                 ft.variable_types.Text,\n",
    "                 ft.variable_types.Text,\n",
    "                 ft.variable_types.Text,\n",
    "                 ft.variable_types.Text,\n",
    "                 ft.variable_types.Boolean,\n",
    "                 ft.variable_types.Boolean,\n",
    "                 ft.variable_types.Boolean,\n",
    "                 ft.variable_types.Boolean]\n",
    "ndf16_vardict = dict(zip(ndf16_cols, ndf16_vartypes))\n",
    "\n",
    "iep16_cols = iep16.columns.tolist()\n",
    "iep16_vartypes = [ft.variable_types.Id,\n",
    "                 ft.variable_types.Categorical,\n",
    "                 ft.variable_types.Categorical,\n",
    "                 ft.variable_types.Categorical,\n",
    "                 ft.variable_types.Categorical,\n",
    "                 ft.variable_types.Numeric,\n",
    "                 ft.variable_types.Numeric]\n",
    "iep16_vardict = dict(zip(iep16_cols, iep16_vartypes))\n"
   ]
  },
  {
   "cell_type": "markdown",
   "metadata": {},
   "source": [
    "# Entity Definitions\n",
    "The \"entities\" that Feature Tools will use to build features are constructed below from the previously assembled dataframes."
   ]
  },
  {
   "cell_type": "code",
   "execution_count": 6,
   "metadata": {
    "ExecuteTime": {
     "end_time": "2019-06-05T07:01:46.769467Z",
     "start_time": "2019-06-05T07:01:46.756503Z"
    }
   },
   "outputs": [],
   "source": [
    "es = ft.EntitySet(id = 'phys_care')\n",
    "es = es.entity_from_dataframe(entity_id = 'hosps', dataframe = hosps_data, index='hosp_id', \\\n",
    "                              variable_types=hosps_data_vardict, make_index=False, time_index=None, \\\n",
    "                              secondary_time_index=None, already_sorted=False)"
   ]
  },
  {
   "cell_type": "code",
   "execution_count": 7,
   "metadata": {
    "ExecuteTime": {
     "end_time": "2019-06-05T07:01:46.892172Z",
     "start_time": "2019-06-05T07:01:46.770465Z"
    }
   },
   "outputs": [],
   "source": [
    "es = es.entity_from_dataframe(entity_id = 'orgs', dataframe = orgs, index='org_pac_id', \\\n",
    "                              variable_types=orgs_vardict, make_index=False, time_index=None, \\\n",
    "                              secondary_time_index=None, already_sorted=False)"
   ]
  },
  {
   "cell_type": "code",
   "execution_count": 8,
   "metadata": {
    "ExecuteTime": {
     "end_time": "2019-06-05T07:01:47.506507Z",
     "start_time": "2019-06-05T07:01:46.893171Z"
    }
   },
   "outputs": [],
   "source": [
    "es = es.entity_from_dataframe(entity_id = 'prov', dataframe = ndf16, index='npi', \\\n",
    "                              variable_types=ndf16_vardict, make_index=False, time_index=None, \\\n",
    "                              secondary_time_index=None, already_sorted=False)"
   ]
  },
  {
   "cell_type": "code",
   "execution_count": 9,
   "metadata": {
    "ExecuteTime": {
     "end_time": "2019-06-05T07:01:47.524614Z",
     "start_time": "2019-06-05T07:01:47.506507Z"
    }
   },
   "outputs": [],
   "source": [
    "es = es.entity_from_dataframe(entity_id = 'states', dataframe = census_regions, index='st', \\\n",
    "                              variable_types=census_regions_vardict, make_index=False, time_index=None, \\\n",
    "                              secondary_time_index=None, already_sorted=False)"
   ]
  },
  {
   "cell_type": "code",
   "execution_count": 10,
   "metadata": {
    "ExecuteTime": {
     "end_time": "2019-06-05T07:01:47.744771Z",
     "start_time": "2019-06-05T07:01:47.526609Z"
    }
   },
   "outputs": [],
   "source": [
    "es = es.entity_from_dataframe(entity_id = 'prov_orgs', dataframe = prov_orgs, index='prov_orgs_index', \\\n",
    "                              variable_types=prov_orgs_vardict, make_index=True, time_index=None, \\\n",
    "                              secondary_time_index=None, already_sorted=False)\n"
   ]
  },
  {
   "cell_type": "code",
   "execution_count": 11,
   "metadata": {
    "ExecuteTime": {
     "end_time": "2019-06-05T07:01:47.987919Z",
     "start_time": "2019-06-05T07:01:47.744771Z"
    }
   },
   "outputs": [],
   "source": [
    "es = es.entity_from_dataframe(entity_id = 'prov_hosps', dataframe = prov_hosps, index='prov_hosps_index', \\\n",
    "                              variable_types=prov_hosps_vardict, make_index=True, time_index=None, \\\n",
    "                              secondary_time_index=None, already_sorted=False)\n"
   ]
  },
  {
   "cell_type": "code",
   "execution_count": 12,
   "metadata": {
    "ExecuteTime": {
     "end_time": "2019-06-05T07:01:48.170372Z",
     "start_time": "2019-06-05T07:01:47.988915Z"
    }
   },
   "outputs": [],
   "source": [
    "es = es.entity_from_dataframe(entity_id = 'prov_sec_specs', dataframe = prov_sec_specs, index='prov_sec_specs_index', \\\n",
    "                              variable_types=prov_sec_specs_vardict, make_index=True, time_index=None, \\\n",
    "                              secondary_time_index=None, already_sorted=False)\n"
   ]
  },
  {
   "cell_type": "code",
   "execution_count": 13,
   "metadata": {
    "ExecuteTime": {
     "end_time": "2019-06-05T07:01:48.238274Z",
     "start_time": "2019-06-05T07:01:48.170372Z"
    }
   },
   "outputs": [],
   "source": [
    "es = es.entity_from_dataframe(entity_id = 'orgs_data', dataframe = orgs_data, index='orgs_data_index', \\\n",
    "                              variable_types=orgs_data_vardict, make_index=True, time_index=None, \\\n",
    "                              secondary_time_index=None, already_sorted=False)\n"
   ]
  },
  {
   "cell_type": "code",
   "execution_count": 14,
   "metadata": {
    "ExecuteTime": {
     "end_time": "2019-06-05T07:01:48.313071Z",
     "start_time": "2019-06-05T07:01:48.240254Z"
    }
   },
   "outputs": [],
   "source": [
    "es = es.entity_from_dataframe(entity_id = 'score_data', dataframe = iep16, index='iep16_index', \\\n",
    "                              variable_types=iep16_vardict, make_index=True, time_index=None, \\\n",
    "                              secondary_time_index=None, already_sorted=False)\n"
   ]
  },
  {
   "cell_type": "code",
   "execution_count": 15,
   "metadata": {
    "ExecuteTime": {
     "end_time": "2019-06-05T07:01:48.353952Z",
     "start_time": "2019-06-05T07:01:48.314058Z"
    }
   },
   "outputs": [],
   "source": [
    "es = es.entity_from_dataframe(entity_id = 'hc_lin_mean', dataframe = hc_lin_mean, \\\n",
    "                              index='hc_lin_mean_index', variable_types=hc_lin_mean_vardict, \\\n",
    "                              make_index=True, time_index=None, secondary_time_index=None, already_sorted=False)\n"
   ]
  },
  {
   "cell_type": "code",
   "execution_count": 16,
   "metadata": {
    "ExecuteTime": {
     "end_time": "2019-06-05T07:01:48.373909Z",
     "start_time": "2019-06-05T07:01:48.355945Z"
    }
   },
   "outputs": [],
   "source": [
    "es = es.entity_from_dataframe(entity_id = 'hc_star', dataframe = hc_star, index='hc_star_index', \\\n",
    "                              variable_types=hc_star_vardict, make_index=True, time_index=None, \\\n",
    "                              secondary_time_index=None, already_sorted=False)\n"
   ]
  },
  {
   "cell_type": "code",
   "execution_count": 17,
   "metadata": {
    "ExecuteTime": {
     "end_time": "2019-06-05T07:01:48.499558Z",
     "start_time": "2019-06-05T07:01:48.375858Z"
    }
   },
   "outputs": [],
   "source": [
    "es = es.entity_from_dataframe(entity_id = 'hc_ans_pct', dataframe = hc_ans_pct, index='hc_ans_pct_index', \\\n",
    "                              variable_types=hc_ans_pct_vardict, make_index=True, time_index=None, \\\n",
    "                              secondary_time_index=None, already_sorted=False)\n"
   ]
  },
  {
   "cell_type": "markdown",
   "metadata": {},
   "source": [
    "# Relationship Definitions\n",
    "Feature Tools is built on the idea of feature primitives and the stacking of these primitives to generate complex features. The code below defines the relationships between the entities defined above. The EntitySet() object, instatiated as es, is stateful and relationships are added one by one."
   ]
  },
  {
   "cell_type": "code",
   "execution_count": 18,
   "metadata": {
    "ExecuteTime": {
     "end_time": "2019-06-05T07:01:48.506508Z",
     "start_time": "2019-06-05T07:01:48.501553Z"
    }
   },
   "outputs": [],
   "source": [
    "r_prov_score = ft.Relationship(es['prov']['npi'],\n",
    "                     es['score_data']['npi'])\n",
    "es = es.add_relationship(r_prov_score)"
   ]
  },
  {
   "cell_type": "code",
   "execution_count": 19,
   "metadata": {
    "ExecuteTime": {
     "end_time": "2019-06-05T07:01:48.517479Z",
     "start_time": "2019-06-05T07:01:48.511497Z"
    }
   },
   "outputs": [],
   "source": [
    "r_prov_prov_hosps = ft.Relationship(es['prov']['npi'],\n",
    "                     es['prov_hosps']['npi'])\n",
    "es = es.add_relationship(r_prov_prov_hosps)"
   ]
  },
  {
   "cell_type": "code",
   "execution_count": 20,
   "metadata": {
    "ExecuteTime": {
     "end_time": "2019-06-05T07:01:48.528450Z",
     "start_time": "2019-06-05T07:01:48.519474Z"
    }
   },
   "outputs": [],
   "source": [
    "r_prov_prov_orgs = ft.Relationship(es['prov']['npi'],\n",
    "                     es['prov_orgs']['npi'])\n",
    "es = es.add_relationship(r_prov_prov_orgs)"
   ]
  },
  {
   "cell_type": "code",
   "execution_count": 21,
   "metadata": {
    "ExecuteTime": {
     "end_time": "2019-06-05T07:01:48.538465Z",
     "start_time": "2019-06-05T07:01:48.530445Z"
    }
   },
   "outputs": [],
   "source": [
    "r_prov_prov_sec_specs = ft.Relationship(es['prov']['npi'],\n",
    "                     es['prov_sec_specs']['npi'])\n",
    "es = es.add_relationship(r_prov_prov_sec_specs)"
   ]
  },
  {
   "cell_type": "code",
   "execution_count": 22,
   "metadata": {
    "ExecuteTime": {
     "end_time": "2019-06-05T07:01:48.548396Z",
     "start_time": "2019-06-05T07:01:48.540419Z"
    }
   },
   "outputs": [],
   "source": [
    "r_orgs_prov_orgs = ft.Relationship(es['orgs']['org_pac_id'],\n",
    "                     es['prov_orgs']['org_pac_id'])\n",
    "es = es.add_relationship(r_orgs_prov_orgs)"
   ]
  },
  {
   "cell_type": "code",
   "execution_count": 23,
   "metadata": {
    "ExecuteTime": {
     "end_time": "2019-06-05T07:01:48.561364Z",
     "start_time": "2019-06-05T07:01:48.550392Z"
    }
   },
   "outputs": [],
   "source": [
    "r_orgs_orgs_data = ft.Relationship(es['orgs']['org_pac_id'],\n",
    "                     es['orgs_data']['org_pac_id'])\n",
    "es = es.add_relationship(r_orgs_orgs_data)"
   ]
  },
  {
   "cell_type": "code",
   "execution_count": 24,
   "metadata": {
    "ExecuteTime": {
     "end_time": "2019-06-05T07:01:48.570338Z",
     "start_time": "2019-06-05T07:01:48.562361Z"
    }
   },
   "outputs": [],
   "source": [
    "r_hosps_prov_hosps = ft.Relationship(es['hosps']['hosp_id'],\n",
    "                     es['prov_hosps']['hosp_id'])\n",
    "es = es.add_relationship(r_hosps_prov_hosps)"
   ]
  },
  {
   "cell_type": "code",
   "execution_count": 25,
   "metadata": {
    "ExecuteTime": {
     "end_time": "2019-06-05T07:01:48.579314Z",
     "start_time": "2019-06-05T07:01:48.573330Z"
    }
   },
   "outputs": [],
   "source": [
    "r_hosps_hc_lin_mean = ft.Relationship(es['hosps']['hosp_id'],\n",
    "                     es['hc_lin_mean']['hosp_id'])\n",
    "es = es.add_relationship(r_hosps_hc_lin_mean)"
   ]
  },
  {
   "cell_type": "code",
   "execution_count": 26,
   "metadata": {
    "ExecuteTime": {
     "end_time": "2019-06-05T07:01:48.589287Z",
     "start_time": "2019-06-05T07:01:48.581308Z"
    }
   },
   "outputs": [],
   "source": [
    "r_states_hosps = ft.Relationship(es['states']['st'],\n",
    "                     es['hosps']['state'])\n",
    "es = es.add_relationship(r_states_hosps)"
   ]
  },
  {
   "cell_type": "code",
   "execution_count": 27,
   "metadata": {
    "ExecuteTime": {
     "end_time": "2019-06-05T07:01:48.599259Z",
     "start_time": "2019-06-05T07:01:48.591283Z"
    }
   },
   "outputs": [],
   "source": [
    "r_states_orgs_data = ft.Relationship(es['states']['st'],\n",
    "                     es['orgs_data']['st'])\n",
    "es = es.add_relationship(r_states_orgs_data)"
   ]
  },
  {
   "cell_type": "code",
   "execution_count": 28,
   "metadata": {
    "ExecuteTime": {
     "end_time": "2019-06-05T07:01:48.609268Z",
     "start_time": "2019-06-05T07:01:48.601255Z"
    }
   },
   "outputs": [],
   "source": [
    "dfs_ignore_dict = {'prov':['npi'], \\\n",
    "                   'score_data':['prf_rate'], 'hosps':['zip_code'], 'states':['state'], \\\n",
    "                   'orgs_data':['zip'], 'prov_hosps':['npi'], 'prov_orgs':['npi'], \\\n",
    "                   'prov_sec_specs':['npi']}"
   ]
  },
  {
   "cell_type": "markdown",
   "metadata": {},
   "source": [
    "# Feature Engineering Using Feature Tools\n",
    "\n",
    "The below code generates a non-deterministic error related to how dask stops worker jobs. Results are unaffected and returned normally, and match those generated when n_jobs = 1 and no error is generated."
   ]
  },
  {
   "cell_type": "code",
   "execution_count": null,
   "metadata": {
    "ExecuteTime": {
     "end_time": "2019-06-05T04:33:20.189119Z",
     "start_time": "2019-06-05T04:18:10.975518Z"
    }
   },
   "outputs": [],
   "source": [
    "max_depth = 6\n",
    "print('Using max_depth=', max_depth)\n",
    "print('Start time: ', datetime.now(), '\\n')\n",
    "feature_matrix, feature_defs = ft.dfs(entityset=es,\n",
    "                                       target_entity='score_data',\n",
    "                                       max_depth=max_depth,\n",
    "                                       n_jobs=4,\n",
    "#                                      features_only=True,\n",
    "                                     ignore_variables=dfs_ignore_dict,\n",
    "                                     return_variable_types='all')\n",
    "print('Start time: ', datetime.now())"
   ]
  },
  {
   "cell_type": "markdown",
   "metadata": {},
   "source": [
    "With max_depth = 6, 174 novel features were generated using Feature Tools."
   ]
  },
  {
   "cell_type": "code",
   "execution_count": null,
   "metadata": {
    "ExecuteTime": {
     "end_time": "2019-06-05T04:33:22.116058Z",
     "start_time": "2019-06-05T04:33:20.192108Z"
    }
   },
   "outputs": [],
   "source": [
    "#feature_matrix['prf_rate'] = iep16.prf_rate\n",
    "#feature_matrix.to_pickle('feature_matrix_6_new.df')\n",
    "feature_matrix = pd.read_pickle('feature_matrix_6_new.df')"
   ]
  },
  {
   "cell_type": "code",
   "execution_count": 29,
   "metadata": {
    "ExecuteTime": {
     "end_time": "2019-06-05T07:02:23.837989Z",
     "start_time": "2019-06-05T07:02:23.815461Z"
    }
   },
   "outputs": [
    {
     "data": {
      "text/html": [
       "<div>\n",
       "<style scoped>\n",
       "    .dataframe tbody tr th:only-of-type {\n",
       "        vertical-align: middle;\n",
       "    }\n",
       "\n",
       "    .dataframe tbody tr th {\n",
       "        vertical-align: top;\n",
       "    }\n",
       "\n",
       "    .dataframe thead th {\n",
       "        text-align: right;\n",
       "    }\n",
       "</style>\n",
       "<table border=\"1\" class=\"dataframe\">\n",
       "  <thead>\n",
       "    <tr style=\"text-align: right;\">\n",
       "      <th></th>\n",
       "      <th>npi</th>\n",
       "      <th>gndr</th>\n",
       "      <th>assgn</th>\n",
       "      <th>pqrs</th>\n",
       "      <th>ehr</th>\n",
       "      <th>mhi</th>\n",
       "      <th>cred</th>\n",
       "      <th>med_sch</th>\n",
       "      <th>pri_spec</th>\n",
       "      <th>grd_yr</th>\n",
       "      <th>orgs_text</th>\n",
       "      <th>hosps_text</th>\n",
       "      <th>sec_specs_text</th>\n",
       "      <th>states_text</th>\n",
       "      <th>chiro_school</th>\n",
       "      <th>osteo_school</th>\n",
       "      <th>opto_school</th>\n",
       "      <th>dent_school</th>\n",
       "    </tr>\n",
       "  </thead>\n",
       "  <tbody>\n",
       "    <tr>\n",
       "      <th>0</th>\n",
       "      <td>1003000126</td>\n",
       "      <td>M</td>\n",
       "      <td>T</td>\n",
       "      <td>T</td>\n",
       "      <td>F</td>\n",
       "      <td>F</td>\n",
       "      <td>UNREPORTED</td>\n",
       "      <td>OTHER</td>\n",
       "      <td>INTERNAL MEDICINE</td>\n",
       "      <td>1994.0</td>\n",
       "      <td>6103174255</td>\n",
       "      <td>490126</td>\n",
       "      <td>NONE</td>\n",
       "      <td>VA</td>\n",
       "      <td>0</td>\n",
       "      <td>0</td>\n",
       "      <td>0</td>\n",
       "      <td>0</td>\n",
       "    </tr>\n",
       "  </tbody>\n",
       "</table>\n",
       "</div>"
      ],
      "text/plain": [
       "          npi gndr assgn pqrs ehr mhi        cred med_sch           pri_spec  \\\n",
       "0  1003000126    M     T    T   F   F  UNREPORTED   OTHER  INTERNAL MEDICINE   \n",
       "\n",
       "   grd_yr   orgs_text hosps_text sec_specs_text states_text  chiro_school  \\\n",
       "0  1994.0  6103174255     490126           NONE          VA             0   \n",
       "\n",
       "   osteo_school  opto_school  dent_school  \n",
       "0             0            0            0  "
      ]
     },
     "execution_count": 29,
     "metadata": {},
     "output_type": "execute_result"
    }
   ],
   "source": [
    "ndf16.head(1)"
   ]
  },
  {
   "cell_type": "code",
   "execution_count": null,
   "metadata": {
    "ExecuteTime": {
     "end_time": "2019-06-05T04:40:40.165984Z",
     "start_time": "2019-06-05T04:40:40.152019Z"
    }
   },
   "outputs": [],
   "source": [
    "len(feature_defs), feature_defs"
   ]
  },
  {
   "cell_type": "markdown",
   "metadata": {},
   "source": [
    "# The contents of the feature matrix are used to identify measures of interest. Amongst the measures that stand out with a relatively poor score (54) but affecting a large number of patients (27 million) and involving a large number of providers (16000) is PQRS_EP_110_1, \"Preventive Care and Screening: Influenza Immun...\""
   ]
  },
  {
   "cell_type": "code",
   "execution_count": null,
   "metadata": {
    "ExecuteTime": {
     "end_time": "2019-06-05T04:41:08.090312Z",
     "start_time": "2019-06-05T04:41:07.685294Z"
    }
   },
   "outputs": [],
   "source": [
    "d = {'npi': ['count'], 'patient_count': ['sum'], 'prf_rate':['mean']}\n",
    "per_measure_nums = feature_matrix.groupby(['measure_id','measure_title'], as_index=False).agg(d)\n",
    "per_measure_nums.columns = ['measure_id','measure_title','count_provider','sum_patients','mean_prf_rate']"
   ]
  },
  {
   "cell_type": "code",
   "execution_count": null,
   "metadata": {
    "ExecuteTime": {
     "end_time": "2019-06-05T04:41:09.527359Z",
     "start_time": "2019-06-05T04:41:09.501427Z"
    },
    "scrolled": true
   },
   "outputs": [],
   "source": [
    "per_measure_nums.sort_values('mean_prf_rate')"
   ]
  },
  {
   "cell_type": "code",
   "execution_count": null,
   "metadata": {},
   "outputs": [],
   "source": [
    "feature_matrix.columns = [c.lower().replace('.', '_') for c in feature_matrix.columns]\n"
   ]
  },
  {
   "cell_type": "code",
   "execution_count": null,
   "metadata": {
    "ExecuteTime": {
     "end_time": "2019-06-05T05:54:27.908318Z",
     "start_time": "2019-06-05T05:54:27.597640Z"
    }
   },
   "outputs": [],
   "source": [
    "pqrs110 = feature_matrix.loc[feature_matrix.measure_id == 'PQRS_EP_110_1'].reset_index(drop=True)\n",
    "pqrs110 = pqrs110.dropna(axis=1, how='any')"
   ]
  },
  {
   "cell_type": "code",
   "execution_count": null,
   "metadata": {
    "ExecuteTime": {
     "end_time": "2019-06-05T05:54:33.340990Z",
     "start_time": "2019-06-05T05:54:33.314445Z"
    }
   },
   "outputs": [],
   "source": [
    "X = pqrs110.drop(columns='prf_rate')\n",
    "y = pqrs110['prf_rate']\n",
    "g = X.columns.to_series().groupby(X.dtypes).groups\n",
    "float_cols = g[list(g.keys())[1]].tolist()\n",
    "int_cols = g[list(g.keys())[0]].tolist()[1:]\n",
    "int_cols + float_cols\n",
    "X_num = X[float_cols+int_cols]\n",
    "#y = np.log(pqrs110['prf_rate'])"
   ]
  },
  {
   "cell_type": "code",
   "execution_count": null,
   "metadata": {
    "ExecuteTime": {
     "end_time": "2019-06-05T04:11:34.062284Z",
     "start_time": "2019-06-05T04:11:34.052272Z"
    }
   },
   "outputs": [],
   "source": [
    "X.dtypes"
   ]
  },
  {
   "cell_type": "code",
   "execution_count": null,
   "metadata": {},
   "outputs": [],
   "source": []
  },
  {
   "cell_type": "code",
   "execution_count": 30,
   "metadata": {
    "ExecuteTime": {
     "end_time": "2019-06-05T07:03:12.776357Z",
     "start_time": "2019-06-05T07:03:12.769374Z"
    },
    "collapsed": true
   },
   "outputs": [
    {
     "data": {
      "text/plain": [
       "['PREVENTATIVE MEDICINE',\n",
       " 'COLORECTAL SURGERY (PROCTOLOGY)',\n",
       " 'UNDERSEA AND HYPERBARIC MEDICINE',\n",
       " 'HEMATOPOIETIC CELL TRANSPLANTATION AND CELLULAR TH',\n",
       " 'GASTROENTEROLOGY',\n",
       " 'ALLERGY/IMMUNOLOGY',\n",
       " 'PHYSICAL MEDICINE AND REHABILITATION',\n",
       " 'INTERVENTIONAL PAIN MANAGEMENT',\n",
       " 'GERIATRIC MEDICINE',\n",
       " 'GENERAL SURGERY',\n",
       " 'DIAGNOSTIC RADIOLOGY',\n",
       " 'NEPHROLOGY',\n",
       " 'HAND SURGERY',\n",
       " 'PODIATRY',\n",
       " 'RHEUMATOLOGY',\n",
       " 'INTERVENTIONAL RADIOLOGY',\n",
       " 'OPHTHALMOLOGY',\n",
       " 'DERMATOLOGY',\n",
       " 'SURGICAL ONCOLOGY',\n",
       " 'ADVANCED HEART FAILURE AND TRANSPLANT CARDIOLOGY',\n",
       " 'CRITICAL CARE (INTENSIVISTS)',\n",
       " 'INTERVENTIONAL CARDIOLOGY',\n",
       " 'ANESTHESIOLOGY',\n",
       " 'NUCLEAR MEDICINE',\n",
       " 'None',\n",
       " 'NEUROSURGERY',\n",
       " 'NEUROPSYCHIATRY',\n",
       " 'OTOLARYNGOLOGY',\n",
       " 'PSYCHIATRY',\n",
       " 'ORTHOPEDIC SURGERY',\n",
       " 'MEDICAL GENETICS AND GENOMICS',\n",
       " 'OPTOMETRY',\n",
       " 'VASCULAR SURGERY',\n",
       " 'PULMONARY DISEASE',\n",
       " 'CHIROPRACTIC',\n",
       " 'GYNECOLOGICAL ONCOLOGY',\n",
       " 'CARDIAC SURGERY',\n",
       " 'NONE',\n",
       " 'FAMILY MEDICINE',\n",
       " 'ENDOCRINOLOGY',\n",
       " 'PERIPHERAL VASCULAR DISEASE',\n",
       " 'HEMATOLOGY',\n",
       " 'OSTEOPATHIC MANIPULATIVE MEDICINE',\n",
       " 'RADIATION ONCOLOGY',\n",
       " 'INFECTIOUS DISEASE',\n",
       " 'HOSPICE/PALLIATIVE CARE',\n",
       " 'MAXILLOFACIAL SURGERY',\n",
       " 'INTERNAL MEDICINE',\n",
       " 'ADDICTION MEDICINE',\n",
       " 'MEDICAL ONCOLOGY',\n",
       " 'THORACIC SURGERY',\n",
       " 'DENTIST',\n",
       " 'GERIATRIC PSYCHIATRY',\n",
       " 'SLEEP MEDICINE',\n",
       " 'OBSTETRICS/GYNECOLOGY',\n",
       " 'PATHOLOGY',\n",
       " 'SPORTS MEDICINE',\n",
       " 'PLASTIC AND RECONSTRUCTIVE SURGERY',\n",
       " 'ORAL SURGERY',\n",
       " 'MEDICAL TOXICOLOGY',\n",
       " 'GENERAL PRACTICE',\n",
       " 'HEMATOLOGY/ONCOLOGY',\n",
       " 'PEDIATRIC MEDICINE',\n",
       " 'EMERGENCY MEDICINE',\n",
       " 'CARDIAC ELECTROPHYSIOLOGY',\n",
       " 'HOSPITALIST',\n",
       " 'PAIN MANAGEMENT',\n",
       " 'UROLOGY',\n",
       " 'CARDIOVASCULAR DISEASE (CARDIOLOGY)',\n",
       " 'NEUROLOGY']"
      ]
     },
     "execution_count": 30,
     "metadata": {},
     "output_type": "execute_result"
    }
   ],
   "source": [
    "vocab_dict['sec_spec_vocab']"
   ]
  },
  {
   "cell_type": "code",
   "execution_count": 42,
   "metadata": {
    "ExecuteTime": {
     "end_time": "2019-06-05T07:11:41.076620Z",
     "start_time": "2019-06-05T07:11:41.070636Z"
    }
   },
   "outputs": [],
   "source": [
    "# class ColumnSelectTransformer(base.BaseEstimator, base.TransformerMixin):\n",
    "\n",
    "#     def __init__(self, col_name):\n",
    "#         self.col_name = col_name  # We will need these in transform()\n",
    "\n",
    "#     def fit(self, X, y=None):\n",
    "#         # This transformer doesn't need to learn anything about the data,\n",
    "#         # so it can just return self without any further processing\n",
    "#         return self\n",
    "\n",
    "#     def transform(self, X):\n",
    "#         return [item for sublist in X[self.col_name].values.tolist() for item in sublist]\n",
    "\n",
    "\n",
    "# class TextColumnSelectTransformer(base.BaseEstimator, base.TransformerMixin):\n",
    "\n",
    "#     def __init__(self, col_name):\n",
    "#         self.col_name = col_name  # We will need these in transform()\n",
    "\n",
    "#     def fit(self, X, y=None):\n",
    "#         # This transformer doesn't need to learn anything about the data,\n",
    "#         # so it can just return self without any further processing\n",
    "#         return self\n",
    "\n",
    "#     def transform(self, X):\n",
    "# #        return np.array(X[self.col_name].apply(lambda _string: _string.split(',')).apply(lambda _list: {_string.strip() for _string in _list}))\n",
    "#         return [X[name].apply(lambda _string: _string.split(',')).apply(lambda _list: np.array(_string.strip() for _string in _list)).values for name in self.col_name][0]\n",
    "    \n",
    "#     #    [[d[name] for name in self.col_names] for d in X]\n",
    "\n",
    "class ColumnSelectTransformer(base.BaseEstimator, base.TransformerMixin):\n",
    "    \n",
    "    def __init__(self):\n",
    "        self = self  # We will need these in transform()\n",
    "    \n",
    "    def fit(self, X, y=None):\n",
    "        # This transformer doesn't need to learn anything about the data,\n",
    "        # so it can just return self without any further processing\n",
    "        return self\n",
    "    \n",
    "    def transform(self, X):\n",
    "        return [row.hosps_text for row in X.itertuples()]\n",
    "#        return [row.org_pac_ids for row in X.itertuples()]"
   ]
  },
  {
   "cell_type": "code",
   "execution_count": null,
   "metadata": {},
   "outputs": [],
   "source": [
    "org_pac_features2 = ['org_pac_ids']\n",
    "org_pac_transformer2 = Pipeline(steps=[\n",
    "    ('cst', ColumnSelectTransformer()),\n",
    "    ('cntvec', CountVectorizer(vocabulary=org_vocab))\n",
    "    ])\n",
    "\n",
    "hosps_features2 = ['org_pac_ids']\n",
    "hosps_transformer2 = Pipeline(steps=[\n",
    "    ('cst', ColumnSelectTransformer()),\n",
    "    ('cntvec', CountVectorizer(vocabulary=hosps_vocab))\n",
    "    ])\n",
    "\n",
    "preprocessor2 = ColumnTransformer(\n",
    "    transformers=[\n",
    "#Put shuffle in somewhere somehow!\n",
    "        ('num', numeric_transformer2, numeric_features2),\n",
    "        ('cat', categorical_transformer2, categorical_features2),\n",
    "        ('org_pac_txt', org_pac_transformer2, org_pac_features2),\n",
    "        ('hosps_txt', hosps_transformer2, hosps_features2)\n",
    "    ])\n",
    "\n",
    "# Append classifier to preprocessing pipeline.\n",
    "# Now we have a full prediction pipeline.\n",
    "clf2 = Pipeline(steps=[('preprocessor', preprocessor2),\n",
    "                      ('mlp', MLPRegressor(max_iter=100, warm_start=False))\n",
    "#                      ('rdg', Ridge(alpha=[1.0]))\n",
    "                      ])"
   ]
  },
  {
   "cell_type": "code",
   "execution_count": 45,
   "metadata": {
    "ExecuteTime": {
     "end_time": "2019-06-05T07:12:21.827502Z",
     "start_time": "2019-06-05T07:12:21.823034Z"
    }
   },
   "outputs": [],
   "source": [
    "# numeric_features = float_cols + int_cols\n",
    "# numeric_transformer = Pipeline(steps=[\n",
    "#     ('norm', Normalizer()),\n",
    "#     ])\n",
    "\n",
    "sec_specs_features = ['hosps_text']\n",
    "sec_specs_transformer = Pipeline(steps=[\n",
    "    ('cst', ColumnSelectTransformer()),\n",
    "    ('cntvec', CountVectorizer(vocabulary=vocab_dict['hosps_id_vocab']))\n",
    "\n",
    "#    ('mlb', MultiLabelBinarizer(classes=vocab_dict['sec_spec_vocab']))\n",
    "    ])\n",
    "\n",
    "# pri_spec_features = ['pri_spec']\n",
    "# pri_spec_transformer = Pipeline(steps=[\n",
    "#     ('onehot', MultiLabelBinarizer(classes=[pri_spec_cats]))])\n",
    "\n",
    "categorical_features = ['collection_type', 'live_site_ind', 'assgn', 'ehr', 'mhi', 'gndr', 'st', 'region', 'division']\n",
    "categorical_transformer = Pipeline(steps=[\n",
    "    ('onehot', OneHotEncoder())])\n",
    "\n",
    "# org_pac_features = ['org_pac_ids']\n",
    "# org_pac_transformer = Pipeline(steps=[\n",
    "#     ('cst', ColumnSelectTransformer(['org_pac_ids'])),\n",
    "#     ('cntvec', CountVectorizer(vocabulary=org_vocab))\n",
    "#     ])\n",
    "\n",
    "# hosps_features = ['hosps']\n",
    "# hosps_transformer = Pipeline(steps=[\n",
    "#     ('cst', ColumnSelectTransformer(['hosps'])),\n",
    "#     ('cntvec', CountVectorizer(vocabulary=hosps_vocab))\n",
    "#     ])\n",
    "\n",
    "preprocessor = ColumnTransformer(\n",
    "    transformers=[\n",
    "#        ('nmt', numeric_transformer, numeric_features),\n",
    "         ('spt', sec_specs_transformer, sec_specs_features)\n",
    "#         ('med', med_sch_transformer, med_sch_features),\n",
    "#         ('meas', measure_id_transformer, measure_id_features),        \n",
    "#         ('cat', categorical_transformer, categorical_features),\n",
    "#         ('org', org_pac_transformer, org_pac_features),\n",
    "#         ('hosps', hosps_transformer, hosps_features)\n",
    "    ])\n",
    "\n",
    "# Append classifier to preprocessing pipeline.\n",
    "# Now we have a full prediction pipeline.\n",
    "prep = Pipeline(steps=[('preprocessor', preprocessor)\n",
    "#                      ('tsvd', TruncatedSVD(n_components=1000))\n",
    "#                      ('mlp', MLPRegressor(max_iter=60))\n",
    "#                      ('rfr', RandomForestRegressor(n_estimators=50))\n",
    "#                      ('lnr', LinearRegression())\n",
    "#                      ('rdg', Ridge())\n",
    "                     ])"
   ]
  },
  {
   "cell_type": "code",
   "execution_count": 46,
   "metadata": {
    "ExecuteTime": {
     "end_time": "2019-06-05T07:12:28.227199Z",
     "start_time": "2019-06-05T07:12:24.428917Z"
    }
   },
   "outputs": [
    {
     "data": {
      "text/plain": [
       "<1069803x4739 sparse matrix of type '<class 'numpy.int64'>'\n",
       "\twith 1097383 stored elements in Compressed Sparse Row format>"
      ]
     },
     "execution_count": 46,
     "metadata": {},
     "output_type": "execute_result"
    }
   ],
   "source": [
    "a=prep.fit_transform(ndf16)\n",
    "\n",
    "#type(a[0][0])\n",
    "a\n",
    "#X[numeric_features]"
   ]
  },
  {
   "cell_type": "code",
   "execution_count": 44,
   "metadata": {
    "ExecuteTime": {
     "end_time": "2019-06-05T07:12:11.806064Z",
     "start_time": "2019-06-05T07:12:11.795094Z"
    }
   },
   "outputs": [
    {
     "data": {
      "text/plain": [
       "['050112',\n",
       " '141350',\n",
       " '271333',\n",
       " '040020',\n",
       " '390160',\n",
       " '380014',\n",
       " '381324',\n",
       " '230264',\n",
       " '271327',\n",
       " '180049',\n",
       " '240001',\n",
       " '140280',\n",
       " '531311',\n",
       " '070019',\n",
       " '190004',\n",
       " '460004',\n",
       " '230047',\n",
       " '010110',\n",
       " '281357',\n",
       " '190255',\n",
       " '500058',\n",
       " '050131',\n",
       " '190041',\n",
       " '400113',\n",
       " '450831',\n",
       " '450399',\n",
       " '171369',\n",
       " '090004',\n",
       " '210027',\n",
       " '280032',\n",
       " '410004',\n",
       " '151320',\n",
       " '111327',\n",
       " '501325',\n",
       " '261323',\n",
       " '420007',\n",
       " '141341',\n",
       " '021311',\n",
       " '371323',\n",
       " '100084',\n",
       " '320085',\n",
       " '100114',\n",
       " '090008',\n",
       " '520189',\n",
       " '030122',\n",
       " '390112',\n",
       " '511309',\n",
       " '271312',\n",
       " '050069',\n",
       " '050776',\n",
       " '260110',\n",
       " '121300',\n",
       " '330223',\n",
       " '261336',\n",
       " '441311',\n",
       " '370083',\n",
       " '140062',\n",
       " '460058',\n",
       " '361333',\n",
       " '320005',\n",
       " '261325',\n",
       " '281363',\n",
       " '241325',\n",
       " '110234',\n",
       " '450039',\n",
       " '420098',\n",
       " '670093',\n",
       " '500030',\n",
       " '210032',\n",
       " '450079',\n",
       " '110074',\n",
       " '431339',\n",
       " '360137',\n",
       " '340097',\n",
       " '110071',\n",
       " '100071',\n",
       " '400018',\n",
       " '340073',\n",
       " '281304',\n",
       " '140046',\n",
       " '420083',\n",
       " '010149',\n",
       " '140011',\n",
       " '370019',\n",
       " '371317',\n",
       " '450883',\n",
       " '261310',\n",
       " '161378',\n",
       " '440161',\n",
       " '060030',\n",
       " '400120',\n",
       " '050204',\n",
       " '050517',\n",
       " '270032',\n",
       " '520009',\n",
       " '020018',\n",
       " '370173',\n",
       " '330397',\n",
       " '141351',\n",
       " '360086',\n",
       " '330182',\n",
       " '310039',\n",
       " '250058',\n",
       " '200020',\n",
       " '450771',\n",
       " '380009',\n",
       " '271328',\n",
       " '501319',\n",
       " '161354',\n",
       " '191314',\n",
       " '450508',\n",
       " '180045',\n",
       " '360078',\n",
       " '451319',\n",
       " '281300',\n",
       " '330175',\n",
       " '450102',\n",
       " '060003',\n",
       " '330386',\n",
       " '241301',\n",
       " '371320',\n",
       " '010085',\n",
       " '330162',\n",
       " '050145',\n",
       " '241327',\n",
       " '371311',\n",
       " '450101',\n",
       " '150173',\n",
       " '400125',\n",
       " '370201',\n",
       " '070004',\n",
       " '100025',\n",
       " '110023',\n",
       " '370190',\n",
       " '361329',\n",
       " '110128',\n",
       " '100213',\n",
       " '230277',\n",
       " '180093',\n",
       " '230071',\n",
       " '191326',\n",
       " '281324',\n",
       " '250082',\n",
       " '390100',\n",
       " '451331',\n",
       " '190019',\n",
       " '450804',\n",
       " '380022',\n",
       " '501335',\n",
       " '170188',\n",
       " '150086',\n",
       " '160005',\n",
       " '310110',\n",
       " '190302',\n",
       " '340123',\n",
       " '330238',\n",
       " '161341',\n",
       " '191322',\n",
       " '521316',\n",
       " '100266',\n",
       " '360175',\n",
       " '110236',\n",
       " '500005',\n",
       " '100256',\n",
       " '431302',\n",
       " '521300',\n",
       " '051320',\n",
       " '150048',\n",
       " '511307',\n",
       " '440194',\n",
       " '150044',\n",
       " '390163',\n",
       " '451364',\n",
       " '360055',\n",
       " '490037',\n",
       " '281353',\n",
       " '320063',\n",
       " '130066',\n",
       " '451354',\n",
       " '130013',\n",
       " '111316',\n",
       " '201302',\n",
       " '330250',\n",
       " '230303',\n",
       " '450484',\n",
       " '050378',\n",
       " '420089',\n",
       " '140115',\n",
       " '390066',\n",
       " '300034',\n",
       " '231320',\n",
       " '050570',\n",
       " '450820',\n",
       " '390211',\n",
       " '340147',\n",
       " '450851',\n",
       " '440091',\n",
       " '050688',\n",
       " '100275',\n",
       " '210060',\n",
       " '450163',\n",
       " '161313',\n",
       " '461307',\n",
       " '120014',\n",
       " '370049',\n",
       " '111328',\n",
       " '451310',\n",
       " '171374',\n",
       " '511300',\n",
       " '380056',\n",
       " '191319',\n",
       " '010018',\n",
       " '181319',\n",
       " '150161',\n",
       " '380027',\n",
       " '141323',\n",
       " '461301',\n",
       " '141309',\n",
       " '210040',\n",
       " '531313',\n",
       " '520139',\n",
       " '140231',\n",
       " '240052',\n",
       " '150075',\n",
       " '210029',\n",
       " '450424',\n",
       " '040114',\n",
       " '160067',\n",
       " '190015',\n",
       " '450518',\n",
       " '140137',\n",
       " '400011',\n",
       " '450747',\n",
       " '161348',\n",
       " '281350',\n",
       " '390041',\n",
       " '180018',\n",
       " '521332',\n",
       " '371328',\n",
       " '110001',\n",
       " '100022',\n",
       " '060065',\n",
       " '161337',\n",
       " '230244',\n",
       " '140063',\n",
       " '360163',\n",
       " '330307',\n",
       " '390006',\n",
       " '110002',\n",
       " '100039',\n",
       " '490018',\n",
       " '390194',\n",
       " '390312',\n",
       " '260162',\n",
       " '180051',\n",
       " '370220',\n",
       " '281360',\n",
       " '201309',\n",
       " '110026',\n",
       " '251313',\n",
       " '340109',\n",
       " '451325',\n",
       " '181301',\n",
       " '520089',\n",
       " '171315',\n",
       " '360011',\n",
       " '391303',\n",
       " '191318',\n",
       " '440173',\n",
       " '341319',\n",
       " '310003',\n",
       " '031307',\n",
       " '440020',\n",
       " '360365',\n",
       " '261301',\n",
       " '510029',\n",
       " '291300',\n",
       " '490021',\n",
       " '501330',\n",
       " '360027',\n",
       " '260065',\n",
       " '331317',\n",
       " '330045',\n",
       " '171308',\n",
       " '500002',\n",
       " '251308',\n",
       " '371309',\n",
       " '210063',\n",
       " '500054',\n",
       " '030043',\n",
       " '240014',\n",
       " '670120',\n",
       " '061301',\n",
       " '500033',\n",
       " '271318',\n",
       " '340051',\n",
       " '390203',\n",
       " '230239',\n",
       " '170150',\n",
       " '131320',\n",
       " '471303',\n",
       " '241350',\n",
       " '110125',\n",
       " '150034',\n",
       " '281341',\n",
       " '140210',\n",
       " '050549',\n",
       " '170146',\n",
       " '370228',\n",
       " '430097',\n",
       " '050042',\n",
       " '030101',\n",
       " '170027',\n",
       " '100307',\n",
       " '261328',\n",
       " '521331',\n",
       " '051321',\n",
       " '330205',\n",
       " '250017',\n",
       " '461303',\n",
       " '230275',\n",
       " '370158',\n",
       " '171341',\n",
       " '170198',\n",
       " '150065',\n",
       " '281323',\n",
       " '450143',\n",
       " '450128',\n",
       " '501317',\n",
       " '360009',\n",
       " '320030',\n",
       " '161347',\n",
       " '261315',\n",
       " '521330',\n",
       " '050292',\n",
       " '493302',\n",
       " '271337',\n",
       " '010022',\n",
       " '100230',\n",
       " '330126',\n",
       " '390329',\n",
       " '171323',\n",
       " '360361',\n",
       " '511306',\n",
       " '450104',\n",
       " '371342',\n",
       " '030062',\n",
       " '451345',\n",
       " '171314',\n",
       " '160083',\n",
       " '370236',\n",
       " '040137',\n",
       " '170020',\n",
       " '110073',\n",
       " '180010',\n",
       " '160032',\n",
       " '050599',\n",
       " '150010',\n",
       " '361316',\n",
       " '360197',\n",
       " '371325',\n",
       " '050498',\n",
       " '201313',\n",
       " '030092',\n",
       " '450893',\n",
       " '370166',\n",
       " '400010',\n",
       " '451341',\n",
       " '090011',\n",
       " '230207',\n",
       " '080004',\n",
       " '363306',\n",
       " '250136',\n",
       " '521302',\n",
       " '470024',\n",
       " '670082',\n",
       " '330086',\n",
       " '100140',\n",
       " '521359',\n",
       " '280013',\n",
       " '331318',\n",
       " '170009',\n",
       " '100137',\n",
       " '370212',\n",
       " '010108',\n",
       " '370094',\n",
       " '450044',\n",
       " '191303',\n",
       " '440017',\n",
       " '241352',\n",
       " '531309',\n",
       " '440016',\n",
       " '330103',\n",
       " '040132',\n",
       " '490110',\n",
       " '041310',\n",
       " '230030',\n",
       " '111313',\n",
       " '670055',\n",
       " '390164',\n",
       " '100319',\n",
       " '461300',\n",
       " '180141',\n",
       " '450072',\n",
       " '511321',\n",
       " '530014',\n",
       " '270012',\n",
       " '260180',\n",
       " '051335',\n",
       " '261320',\n",
       " '431313',\n",
       " '320059',\n",
       " '121301',\n",
       " '190050',\n",
       " '100121',\n",
       " '050189',\n",
       " '171379',\n",
       " '141326',\n",
       " '101305',\n",
       " '501322',\n",
       " '330196',\n",
       " '150072',\n",
       " '260064',\n",
       " '370020',\n",
       " '260177',\n",
       " '241305',\n",
       " '670044',\n",
       " '010095',\n",
       " '140147',\n",
       " '111306',\n",
       " '450137',\n",
       " '280134',\n",
       " '450862',\n",
       " '281301',\n",
       " '161317',\n",
       " '450586',\n",
       " '490042',\n",
       " '161353',\n",
       " '100290',\n",
       " '521327',\n",
       " '440009',\n",
       " '041328',\n",
       " '050047',\n",
       " '170194',\n",
       " '381307',\n",
       " '150172',\n",
       " '330222',\n",
       " '250151',\n",
       " '050078',\n",
       " '521325',\n",
       " '050488',\n",
       " '241373',\n",
       " '510023',\n",
       " '421301',\n",
       " '420020',\n",
       " '390265',\n",
       " '440109',\n",
       " '390107',\n",
       " '150022',\n",
       " '073306',\n",
       " '150176',\n",
       " '240141',\n",
       " '390081',\n",
       " '050633',\n",
       " '250044',\n",
       " '181331',\n",
       " '230093',\n",
       " '490126',\n",
       " '041314',\n",
       " '010046',\n",
       " '330231',\n",
       " '171350',\n",
       " '050771',\n",
       " '330180',\n",
       " '061305',\n",
       " '521349',\n",
       " '390110',\n",
       " '670116',\n",
       " '210057',\n",
       " '050506',\n",
       " '380017',\n",
       " '670034',\n",
       " '320038',\n",
       " '240061',\n",
       " '160016',\n",
       " '460026',\n",
       " '330115',\n",
       " '390031',\n",
       " '390220',\n",
       " '510050',\n",
       " '450176',\n",
       " '171336',\n",
       " '050281',\n",
       " '241339',\n",
       " '100267',\n",
       " '061302',\n",
       " '190256',\n",
       " '100040',\n",
       " '330055',\n",
       " '220015',\n",
       " '361318',\n",
       " '110027',\n",
       " '100130',\n",
       " '180101',\n",
       " '050423',\n",
       " '520136',\n",
       " '450400',\n",
       " '050751',\n",
       " '370227',\n",
       " '050441',\n",
       " '141300',\n",
       " '231319',\n",
       " '471306',\n",
       " '100122',\n",
       " '240084',\n",
       " '140001',\n",
       " '363300',\n",
       " '100057',\n",
       " '241322',\n",
       " '050125',\n",
       " '230075',\n",
       " '371318',\n",
       " '050169',\n",
       " '340068',\n",
       " '241341',\n",
       " '110042',\n",
       " '090006',\n",
       " '050603',\n",
       " '060076',\n",
       " '370139',\n",
       " '260006',\n",
       " '451323',\n",
       " '370210',\n",
       " '370016',\n",
       " '180043',\n",
       " '061303',\n",
       " '340053',\n",
       " '041330',\n",
       " '110028',\n",
       " '010113',\n",
       " '050438',\n",
       " '330215',\n",
       " '250123',\n",
       " '280105',\n",
       " '501338',\n",
       " '041329',\n",
       " '340113',\n",
       " '230176',\n",
       " '351323',\n",
       " '241371',\n",
       " '390192',\n",
       " '220075',\n",
       " '330043',\n",
       " '450675',\n",
       " '420091',\n",
       " '490024',\n",
       " '340190',\n",
       " '330119',\n",
       " '450184',\n",
       " '320018',\n",
       " '151304',\n",
       " '110015',\n",
       " '031300',\n",
       " '041304',\n",
       " '231317',\n",
       " '261332',\n",
       " '100157',\n",
       " '230029',\n",
       " '440218',\n",
       " '210034',\n",
       " '360089',\n",
       " '330239',\n",
       " '390032',\n",
       " '340115',\n",
       " '260050',\n",
       " '440084',\n",
       " '190167',\n",
       " '260210',\n",
       " '331301',\n",
       " '161308',\n",
       " '511322',\n",
       " '261321',\n",
       " '130002',\n",
       " '140233',\n",
       " '510055',\n",
       " '291306',\n",
       " '050528',\n",
       " '100226',\n",
       " '110086',\n",
       " '450133',\n",
       " '150125',\n",
       " '271332',\n",
       " '370054',\n",
       " '390093',\n",
       " '260078',\n",
       " '291312',\n",
       " '230013',\n",
       " '510030',\n",
       " '231338',\n",
       " '450880',\n",
       " '490038',\n",
       " '251329',\n",
       " '180040',\n",
       " '180069',\n",
       " '450604',\n",
       " '241378',\n",
       " '250060',\n",
       " '161322',\n",
       " '141305',\n",
       " '110018',\n",
       " '521358',\n",
       " '100072',\n",
       " '340060',\n",
       " '490046',\n",
       " '271326',\n",
       " '250004',\n",
       " '041313',\n",
       " '240101',\n",
       " '443303',\n",
       " '050118',\n",
       " '321304',\n",
       " '501320',\n",
       " '370172',\n",
       " '321310',\n",
       " '351312',\n",
       " '220008',\n",
       " '240006',\n",
       " '450856',\n",
       " '070007',\n",
       " '161367',\n",
       " '280133',\n",
       " '360170',\n",
       " '390147',\n",
       " '360025',\n",
       " '050276',\n",
       " '360066',\n",
       " '041308',\n",
       " '390002',\n",
       " '280065',\n",
       " '140116',\n",
       " '100093',\n",
       " '431331',\n",
       " '281332',\n",
       " '360020',\n",
       " '110064',\n",
       " '360037',\n",
       " '140040',\n",
       " '151309',\n",
       " '450092',\n",
       " '031314',\n",
       " '190026',\n",
       " '260094',\n",
       " '670047',\n",
       " '461308',\n",
       " '370178',\n",
       " '400032',\n",
       " '390180',\n",
       " '230066',\n",
       " '140135',\n",
       " '260047',\n",
       " '200050',\n",
       " '010024',\n",
       " '040047',\n",
       " '261337',\n",
       " '240066',\n",
       " '050067',\n",
       " '451389',\n",
       " '301312',\n",
       " '451334',\n",
       " '271310',\n",
       " '171334',\n",
       " '100189',\n",
       " '230035',\n",
       " '111335',\n",
       " '460006',\n",
       " '390330',\n",
       " '390133',\n",
       " '420070',\n",
       " '051323',\n",
       " '450108',\n",
       " '670115',\n",
       " '450135',\n",
       " '460015',\n",
       " '451338',\n",
       " '050425',\n",
       " '471302',\n",
       " '450654',\n",
       " '451322',\n",
       " '010128',\n",
       " '340107',\n",
       " '061319',\n",
       " '050076',\n",
       " '040088',\n",
       " '170137',\n",
       " '220119',\n",
       " '351325',\n",
       " '140008',\n",
       " '520202',\n",
       " '220126',\n",
       " '501337',\n",
       " '450299',\n",
       " '010112',\n",
       " '340027',\n",
       " '670010',\n",
       " '040062',\n",
       " '390123',\n",
       " '450894',\n",
       " '463301',\n",
       " '340010',\n",
       " '210019',\n",
       " '450231',\n",
       " '050697',\n",
       " '170013',\n",
       " '520057',\n",
       " '310041',\n",
       " '390044',\n",
       " '450051',\n",
       " '391307',\n",
       " '451349',\n",
       " '490060',\n",
       " '050149',\n",
       " '010033',\n",
       " '230133',\n",
       " '670004',\n",
       " '250072',\n",
       " '453302',\n",
       " '500021',\n",
       " '360074',\n",
       " '141306',\n",
       " '493301',\n",
       " '201304',\n",
       " '050180',\n",
       " '320070',\n",
       " '210004',\n",
       " '250104',\n",
       " '140187',\n",
       " '230005',\n",
       " '210023',\n",
       " '141316',\n",
       " '360189',\n",
       " '330211',\n",
       " '500138',\n",
       " '360143',\n",
       " '151326',\n",
       " '140088',\n",
       " '231330',\n",
       " '051318',\n",
       " '670102',\n",
       " '430090',\n",
       " '360065',\n",
       " '660001',\n",
       " '070025',\n",
       " '220017',\n",
       " '030084',\n",
       " '451387',\n",
       " '360054',\n",
       " '451340',\n",
       " '530011',\n",
       " '330304',\n",
       " '390217',\n",
       " '140043',\n",
       " '170176',\n",
       " '450638',\n",
       " '010101',\n",
       " '370041',\n",
       " '010099',\n",
       " '161310',\n",
       " '450271',\n",
       " '460051',\n",
       " '521354',\n",
       " '440073',\n",
       " '190060',\n",
       " '450498',\n",
       " '330406',\n",
       " '040055',\n",
       " '161366',\n",
       " '190053',\n",
       " '511314',\n",
       " '140053',\n",
       " '490017',\n",
       " '451308',\n",
       " '390061',\n",
       " '500011',\n",
       " '050025',\n",
       " '291311',\n",
       " '390091',\n",
       " '010032',\n",
       " '440137',\n",
       " '310032',\n",
       " '330221',\n",
       " '450379',\n",
       " '160057',\n",
       " '310045',\n",
       " '140239',\n",
       " '450723',\n",
       " '180067',\n",
       " '140164',\n",
       " '420018',\n",
       " '220016',\n",
       " '050677',\n",
       " '140223',\n",
       " '381325',\n",
       " '120022',\n",
       " '151316',\n",
       " '150104',\n",
       " '210045',\n",
       " '050089',\n",
       " '360068',\n",
       " '500150',\n",
       " '261322',\n",
       " '040069',\n",
       " '450068',\n",
       " '140177',\n",
       " '100322',\n",
       " '460001',\n",
       " '010061',\n",
       " '360048',\n",
       " '390219',\n",
       " '220066',\n",
       " '281364',\n",
       " '340173',\n",
       " '451371',\n",
       " '171327',\n",
       " '260011',\n",
       " '340131',\n",
       " '100049',\n",
       " '191312',\n",
       " '051304',\n",
       " '360266',\n",
       " '100187',\n",
       " '050036',\n",
       " '451359',\n",
       " '021302',\n",
       " '331310',\n",
       " '110101',\n",
       " '180132',\n",
       " '140084',\n",
       " '050778',\n",
       " '180115',\n",
       " '100051',\n",
       " '051314',\n",
       " '520027',\n",
       " '360153',\n",
       " '390114',\n",
       " '420065',\n",
       " '050101',\n",
       " '110082',\n",
       " '040014',\n",
       " '360262',\n",
       " '390119',\n",
       " '370025',\n",
       " '210018',\n",
       " '460021',\n",
       " '381303',\n",
       " '161343',\n",
       " '650003',\n",
       " '140162',\n",
       " '100212',\n",
       " '460014',\n",
       " '271308',\n",
       " '400110',\n",
       " '271316',\n",
       " '240002',\n",
       " '450889',\n",
       " '141325',\n",
       " '050342',\n",
       " '361312',\n",
       " '060128',\n",
       " '230195',\n",
       " '431318',\n",
       " '370180',\n",
       " '050045',\n",
       " '450395',\n",
       " '141344',\n",
       " '351318',\n",
       " '300014',\n",
       " '490127',\n",
       " '420005',\n",
       " '013301',\n",
       " '040007',\n",
       " '451313',\n",
       " '361323',\n",
       " '491303',\n",
       " '341323',\n",
       " '450596',\n",
       " '161359',\n",
       " '501334',\n",
       " '360056',\n",
       " '450034',\n",
       " '110129',\n",
       " '360147',\n",
       " '431328',\n",
       " '190303',\n",
       " '500027',\n",
       " '050043',\n",
       " '131319',\n",
       " '100087',\n",
       " '360118',\n",
       " '110006',\n",
       " '110153',\n",
       " '390063',\n",
       " '171321',\n",
       " '430015',\n",
       " '180088',\n",
       " '450148',\n",
       " '201307',\n",
       " '231305',\n",
       " '270003',\n",
       " '111326',\n",
       " '500124',\n",
       " '390104',\n",
       " '061324',\n",
       " '230038',\n",
       " '140276',\n",
       " '050006',\n",
       " '180138',\n",
       " '140029',\n",
       " '370057',\n",
       " '241330',\n",
       " '320058',\n",
       " '141345',\n",
       " '131322',\n",
       " '281311',\n",
       " '340142',\n",
       " '420072',\n",
       " '360058',\n",
       " '271340',\n",
       " '061343',\n",
       " '310008',\n",
       " '451377',\n",
       " '100127',\n",
       " '131301',\n",
       " '500039',\n",
       " '450656',\n",
       " '100023',\n",
       " '050604',\n",
       " '441316',\n",
       " '670071',\n",
       " '291313',\n",
       " '180002',\n",
       " '120007',\n",
       " '310028',\n",
       " '110016',\n",
       " '100228',\n",
       " '141313',\n",
       " '050301',\n",
       " '520205',\n",
       " '080003',\n",
       " '330218',\n",
       " '050279',\n",
       " '330013',\n",
       " '161319',\n",
       " '390153',\n",
       " '330267',\n",
       " '240059',\n",
       " '070028',\n",
       " '180027',\n",
       " '431305',\n",
       " '161349',\n",
       " '260190',\n",
       " '281348',\n",
       " '450351',\n",
       " '400124',\n",
       " '060028',\n",
       " '370214',\n",
       " '110032',\n",
       " '050782',\n",
       " '110189',\n",
       " '451318',\n",
       " '450774',\n",
       " '043300',\n",
       " '100113',\n",
       " '431315',\n",
       " '010148',\n",
       " '351301',\n",
       " '110111',\n",
       " '251330',\n",
       " '171328',\n",
       " '450200',\n",
       " '231318',\n",
       " '510046',\n",
       " '330085',\n",
       " '171376',\n",
       " '250012',\n",
       " '171337',\n",
       " '670117',\n",
       " '441301',\n",
       " '450742',\n",
       " '330399',\n",
       " '330285',\n",
       " '330401',\n",
       " '390184',\n",
       " '230217',\n",
       " '180079',\n",
       " '241308',\n",
       " '360080',\n",
       " '451303',\n",
       " '161340',\n",
       " '501304',\n",
       " '031317',\n",
       " ...]"
      ]
     },
     "execution_count": 44,
     "metadata": {},
     "output_type": "execute_result"
    }
   ],
   "source": [
    "#ndf16.hosps_text\n",
    "vocab_dict['hosps_id_vocab']"
   ]
  },
  {
   "cell_type": "code",
   "execution_count": null,
   "metadata": {
    "ExecuteTime": {
     "end_time": "2019-06-05T02:31:58.209758Z",
     "start_time": "2019-06-05T02:30:37.372481Z"
    }
   },
   "outputs": [],
   "source": [
    "# Compare Algorithms\n",
    "import matplotlib.pyplot as plt\n",
    "# prepare configuration for cross validation test harness\n",
    "seed = 42\n",
    "# prepare models\n",
    "models = []\n",
    "models.append(('mlp', MLPRegressor(max_iter=100)))\n",
    "models.append(('rfr', RandomForestRegressor(n_estimators=100)))\n",
    "models.append(('lr', LinearRegression()))\n",
    "models.append(('rdg', Ridge()))\n",
    "models.append(('lasso', Lasso()))\n",
    "# evaluate each model in turn\n",
    "results = []\n",
    "names = []\n",
    "scoring = 'r2'\n",
    "for name, model in models:\n",
    "    kfold = model_selection.KFold(n_splits=5, shuffle=True, random_state=seed)\n",
    "    cv_results = model_selection.cross_val_score(model, X_num, y, cv=kfold, scoring=scoring)\n",
    "    results.append(cv_results)\n",
    "    names.append(name)\n",
    "    msg = \"%s: %f (%f)\" % (name, cv_results.mean(), cv_results.std())\n",
    "    print(msg)\n",
    "# boxplot algorithm comparison\n",
    "fig = plt.figure()\n",
    "fig.suptitle('Algorithm Comparison')\n",
    "ax = fig.add_subplot(111)\n",
    "plt.boxplot(results)\n",
    "ax.set_xticklabels(names)\n",
    "plt.show()"
   ]
  },
  {
   "cell_type": "code",
   "execution_count": null,
   "metadata": {},
   "outputs": [],
   "source": []
  },
  {
   "cell_type": "code",
   "execution_count": null,
   "metadata": {},
   "outputs": [],
   "source": [
    "# Compare Algorithms\n",
    "import matplotlib.pyplot as plt\n",
    "# prepare configuration for cross validation test harness\n",
    "seed = 42\n",
    "# prepare models\n",
    "models = []\n",
    "models.append(('mlp', MLPRegressor(max_iter=100)))\n",
    "models.append(('rfr', RandomForestRegressor(n_estimators=100)))\n",
    "models.append(('lr', LinearRegression()))\n",
    "models.append(('rdg', Ridge()))\n",
    "models.append(('lasso', Lasso()))\n",
    "# evaluate each model in turn\n",
    "results = []\n",
    "names = []\n",
    "scoring = 'r2'\n",
    "for name, model in models:\n",
    "    kfold = model_selection.KFold(n_splits=5, shuffle=True, random_state=seed)\n",
    "    cv_results = model_selection.cross_val_score(model, X_num, y, cv=kfold, scoring=scoring)\n",
    "    results.append(cv_results)\n",
    "    names.append(name)\n",
    "    msg = \"%s: %f (%f)\" % (name, cv_results.mean(), cv_results.std())\n",
    "    print(msg)\n",
    "# boxplot algorithm comparison\n",
    "fig = plt.figure()\n",
    "fig.suptitle('Algorithm Comparison')\n",
    "ax = fig.add_subplot(111)\n",
    "plt.boxplot(results)\n",
    "ax.set_xticklabels(names)\n",
    "plt.show()"
   ]
  },
  {
   "cell_type": "code",
   "execution_count": null,
   "metadata": {
    "ExecuteTime": {
     "end_time": "2019-06-05T02:37:03.992317Z",
     "start_time": "2019-06-05T02:36:20.732374Z"
    }
   },
   "outputs": [],
   "source": [
    "rfr = RandomForestRegressor(n_estimators=300)\n",
    "rfr.fit(X_num,y)\n"
   ]
  },
  {
   "cell_type": "code",
   "execution_count": null,
   "metadata": {
    "ExecuteTime": {
     "end_time": "2019-06-05T02:37:05.155528Z",
     "start_time": "2019-06-05T02:37:03.994312Z"
    }
   },
   "outputs": [],
   "source": [
    "rfr.score(X_num,y)"
   ]
  },
  {
   "cell_type": "code",
   "execution_count": null,
   "metadata": {
    "ExecuteTime": {
     "end_time": "2019-06-05T02:25:51.272376Z",
     "start_time": "2019-06-05T02:25:51.262362Z"
    },
    "scrolled": true
   },
   "outputs": [],
   "source": [
    "sorted(list(zip(rfr.feature_importances_.tolist(), X_num.columns.tolist())))[::-1]"
   ]
  },
  {
   "cell_type": "code",
   "execution_count": null,
   "metadata": {
    "ExecuteTime": {
     "end_time": "2019-06-04T05:40:37.400754Z",
     "start_time": "2019-06-04T05:40:37.386757Z"
    }
   },
   "outputs": [],
   "source": [
    "# Compare Algorithms\n",
    "import matplotlib.pyplot as plt\n",
    "# prepare configuration for cross validation test harness\n",
    "seed = 42\n",
    "# prepare models\n",
    "models = []\n",
    "#models.append(('mlp', MLPRegressor(max_iter=20)))\n",
    "models.append(('rfr', RandomForestRegressor(n_estimators=20)))\n",
    "models.append(('lr', LinearRegression()))\n",
    "models.append(('rdg', Ridge()))\n",
    "models.append(('lasso', Lasso()))\n",
    "# evaluate each model in turn\n",
    "results = []\n",
    "names = []\n",
    "scoring = 'r2'\n",
    "for name, model in models:\n",
    "    kfold = model_selection.KFold(n_splits=3, shuffle=True, random_state=seed)\n",
    "    cv_results = model_selection.cross_val_score(model, X_num, y, cv=kfold, scoring=scoring)\n",
    "    results.append(cv_results)\n",
    "    names.append(name)\n",
    "    msg = \"%s: %f (%f)\" % (name, cv_results.mean(), cv_results.std())\n",
    "    print(msg)\n",
    "# boxplot algorithm comparison\n",
    "fig = plt.figure()\n",
    "fig.suptitle('Algorithm Comparison')\n",
    "ax = fig.add_subplot(111)\n",
    "plt.boxplot(results)\n",
    "ax.set_xticklabels(names)\n",
    "plt.show()"
   ]
  },
  {
   "cell_type": "code",
   "execution_count": null,
   "metadata": {
    "ExecuteTime": {
     "start_time": "2019-06-05T04:15:10.663Z"
    }
   },
   "outputs": [],
   "source": [
    "#X, y = [[thing] for thing in mdf_fnl.prac_yrs], [[thing] for thing in mdf_fnl.prf_rate]\n",
    "cv = model_selection.ShuffleSplit(n_splits=20, test_size=0.2, random_state=42)\n",
    "param_grid = {\"rfr__n_estimators\": [400, 500]}    # parameters to Pipeline take the form [label]__[estimator_param]\n",
    "\n",
    "rfr_pipe = Pipeline([('rfr', RandomForestRegressor())\n",
    "                                     ])\n",
    "\n",
    "rfr_cv = model_selection.GridSearchCV(rfr_pipe, \n",
    "                                                param_grid=param_grid, \n",
    "                                                cv=cv, \n",
    "                                                scoring='r2',\n",
    "                                                refit=True,\n",
    "                                                n_jobs=-1)\n",
    "rfr_cv.fit(X_num, y)\n",
    "\n",
    "#param_grid = {\"rfr__max_depth\": (1, 2, 3, 4, 5, 6, 7)}    # parameters to Pipeline take the form [label]__[estimator_param]\n",
    "\n",
    "#td_rfr = Pipeline([('rfr', ('rfr', RandomForestRegressor(max_depth=7, random_state=0, n_estimators=100)))\n",
    "#                                     ])\n",
    "\n",
    "#td_rfr_cv = model_selection.GridSearchCV(td_rfr, \n",
    "#                                                       param_grid=param_grid, cv=cv, \n",
    "#                                                       scoring='r2',\n",
    "#                                                        refit=True)\n",
    "#td_rfr_cv.fit(X, y)"
   ]
  },
  {
   "cell_type": "code",
   "execution_count": null,
   "metadata": {
    "ExecuteTime": {
     "end_time": "2019-06-05T03:43:07.586585Z",
     "start_time": "2019-06-05T03:43:07.581598Z"
    }
   },
   "outputs": [],
   "source": [
    "rfr_cv.best_score_"
   ]
  },
  {
   "cell_type": "code",
   "execution_count": null,
   "metadata": {
    "ExecuteTime": {
     "end_time": "2019-06-05T03:42:21.410894Z",
     "start_time": "2019-06-05T03:42:21.386958Z"
    }
   },
   "outputs": [],
   "source": [
    "sorted(list(zip(rfr_cv.feature_importances_.tolist(), X_num.columns.tolist())))[::-1]"
   ]
  },
  {
   "cell_type": "code",
   "execution_count": null,
   "metadata": {},
   "outputs": [],
   "source": [
    "# build a classifier\n",
    "rgr = Ridge()\n",
    "\n",
    "# Utility function to report best scores\n",
    "def report(results, n_top=3):\n",
    "    for i in range(1, n_top + 1):\n",
    "        candidates = np.flatnonzero(results['rank_test_score'] == i)\n",
    "        for candidate in candidates:\n",
    "            print(\"Model with rank: {0}\".format(i))\n",
    "            print(\"Mean validation score: {0:.3f} (std: {1:.3f})\".format(\n",
    "                  results['mean_test_score'][candidate],\n",
    "                  results['std_test_score'][candidate]))\n",
    "            print(\"Parameters: {0}\".format(results['params'][candidate]))\n",
    "            print(\"\")\n",
    "\n",
    "\n",
    "# specify parameters and distributions to sample from\n",
    "param_dist = {\"max_depth\": [3, None],\n",
    "              \"max_features\": sp_randint(1, 11),\n",
    "              \"min_samples_split\": sp_randint(2, 11),\n",
    "              \"bootstrap\": [True, False],\n",
    "              \"criterion\": [\"gini\", \"entropy\"]}\n",
    "\n",
    "# run randomized search\n",
    "n_iter_search = 20\n",
    "random_search = RandomizedSearchCV(rfr, param_distributions=param_dist,\n",
    "                                   n_iter=n_iter_search, cv=5, iid=False)\n",
    "\n",
    "start = time()\n",
    "random_search.fit(X, y)\n",
    "print(\"RandomizedSearchCV took %.2f seconds for %d candidates\"\n",
    "      \" parameter settings.\" % ((time() - start), n_iter_search))\n",
    "report(random_search.cv_results_)"
   ]
  }
 ],
 "metadata": {
  "kernelspec": {
   "display_name": "Python 3",
   "language": "python",
   "name": "python3"
  },
  "language_info": {
   "codemirror_mode": {
    "name": "ipython",
    "version": 3
   },
   "file_extension": ".py",
   "mimetype": "text/x-python",
   "name": "python",
   "nbconvert_exporter": "python",
   "pygments_lexer": "ipython3",
   "version": "3.7.1"
  }
 },
 "nbformat": 4,
 "nbformat_minor": 2
}
