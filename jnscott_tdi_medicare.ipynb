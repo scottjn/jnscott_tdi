{
 "cells": [
  {
   "cell_type": "code",
   "execution_count": null,
   "metadata": {},
   "outputs": [],
   "source": [
    "from pathlib import Path\n",
    "import numpy as np\n",
    "import pandas as pd\n",
    "import scipy\n",
    "from scipy import stats\n",
    "import matplotlib.pyplot as plt\n",
    "import matplotlib.pylab as pylab\n",
    "\n",
    "params = {'legend.fontsize': 20,\n",
    "          'figure.figsize': (15, 10),\n",
    "         'axes.labelsize': 20,\n",
    "         'axes.titlesize': 20,\n",
    "         'xtick.labelsize': 20,\n",
    "         'ytick.labelsize': 20}\n",
    "pylab.rcParams.update(params)\n",
    "plt.close('all')\n",
    "\n",
    "## Files are stored in the '2015' and '2016' subdirectories, relative to the working directory\n",
    "path2015 = Path('../2015')\n",
    "path2016 = Path('../2016')\n",
    "dp = np.linspace(0,100,11)\n",
    "dy = np.linspace(1945,2020,15)\n",
    "pd.options.display.max_columns = None\n"
   ]
  },
  {
   "cell_type": "code",
   "execution_count": null,
   "metadata": {},
   "outputs": [],
   "source": [
    "## Column names in the 2016 version of the Physician Compare National Downloadable File are simple and coding-friendly \n",
    "## except for a leading space in all columns after the first. That file is read first and its column names (with leading \n",
    "## space removed) used to replace column names of the 2015 version data after its file is read. Numerical columns are read \n",
    "## as floats (many have NaNs), except where that failed due to presence of a string. As of now, these are handled, when \n",
    "## necessary, on a case-by-case basis. ndf16.dtypes.equals(ndf15.dtypes) returns True.\n",
    "\n",
    "col_names16 = pd.read_csv(path2016 / 'Physician_Compare_National_Downloadable_File.csv', nrows=0).columns\n",
    "types_dict = {\"NPI\": float, \" Ind_PAC_ID\": float, \" Grd_yr\": float, \" org_pac_id\": float, \" num_org_mem\": float}\n",
    "types_dict.update({col: str for col in col_names16 if col not in types_dict})\n",
    "ndf16 = pd.read_csv(path2016 / 'Physician_Compare_National_Downloadable_File.csv', dtype=types_dict).rename(columns=lambda x: x.strip())\n",
    "\n",
    "'''col_names15 = pd.read_csv(path2015 / 'Physician_Compare_National_Downloadable_File.csv', nrows=0).columns\n",
    "types_dict = {\"NPI\": float, \"PAC ID\": float, \"Graduation year\": float, \"Group Practice PAC ID\": float, \"Number of Group Practice members\": float}\n",
    "types_dict.update({col: str for col in col_names15 if col not in types_dict})\n",
    "ndf15 = pd.read_csv(path2015 / 'Physician_Compare_National_Downloadable_File.csv', dtype=types_dict)\n",
    "ndf15.rename(columns=dict(zip(ndf15.columns.values, ndf16.columns.values)), inplace=True)\n",
    "\n",
    "## The 2016 version of the Individual physician measured performance rates contains a new column not found in the 2015 version,\n",
    "## patient count. A patient_count column containing float zeros is added to the 2015 data in matching position to where it is\n",
    "## ips16.dtypes.equals(ips15.dtypes) returns True.\n",
    "'''\n",
    "col_names16 = pd.read_csv(path2016 / 'Physician_Compare_2016_Individual_EP_Public_Reporting.csv', nrows=0).columns\n",
    "types_dict = {\"NPI\": float, \" Ind_PAC_ID\": float, \" prf_rate\": float, \" patient_count\": float}\n",
    "types_dict.update({col: str for col in col_names16 if col not in types_dict})\n",
    "ips16 = pd.read_csv(path2016 / 'Physician_Compare_2016_Individual_EP_Public_Reporting.csv', dtype=types_dict).rename(columns=lambda x: x.strip())\n",
    "\n",
    "'''col_names15 = pd.read_csv(path2015 / 'Physician_Compare_2015_Individual_EP_Public_Reporting___Performance_Scores.csv', nrows=0).columns\n",
    "types_dict = {\"NPI\": float, \"PAC ID\": float, \"Measure Performance Rate\": float}\n",
    "types_dict.update({col: str for col in col_names15 if col not in types_dict})\n",
    "ips15 = pd.read_csv(path2015 / 'Physician_Compare_2015_Individual_EP_Public_Reporting___Performance_Scores.csv', dtype=types_dict)\n",
    "ips15.insert(loc=8, column='patient_count', value=0)\n",
    "ips15.rename(columns=dict(zip(ips15.columns.values, ips16.columns.values)), inplace=True)\n",
    "\n",
    "## The Clinician Utilization data is new for 2016.\n",
    "col_names16 = pd.read_csv(path2016 / 'Physician_Compare_Clinician_Utilization_Data.csv', nrows=0).columns\n",
    "types_dict = {\"NPI\": float, \" Ind_PAC_ID\": float, \" line_srvc_cnt\": float, \" bene_cnt\": float}\n",
    "types_dict.update({col: str for col in col_names16 if col not in types_dict})\n",
    "cud16 = pd.read_csv(path2016 / 'Physician_Compare_Clinician_Utilization_Data.csv', dtype=types_dict).rename(columns=lambda x: x.strip())\n",
    "'''"
   ]
  },
  {
   "cell_type": "code",
   "execution_count": null,
   "metadata": {},
   "outputs": [],
   "source": [
    "ips16.head()"
   ]
  },
  {
   "cell_type": "markdown",
   "metadata": {},
   "source": [
    "# Calculation of PQRS \"participation rate\", unique providers with PQRS == 'Y' to unique providers (PQRS either 'Y' or NaN)"
   ]
  },
  {
   "cell_type": "code",
   "execution_count": 3,
   "metadata": {},
   "outputs": [
    {
     "name": "stdout",
     "output_type": "stream",
     "text": [
      "0.37038767962831654\n"
     ]
    }
   ],
   "source": [
    "# Calculation of PQRS \"participation rate\", unique providers with PQRS == 'Y' to unique providers (PQRS either 'Y' or NaN)\n",
    "\n",
    "ndf16trunc = ndf16.loc[:, 'NPI':'pri_spec'].drop_duplicates()\n",
    "ndf16trunc_pqrs = ndf16.loc[:, ['NPI', 'Ind_PAC_ID', 'lst_nm', 'frst_nm', 'Med_sch', 'Grd_yr', 'pri_spec', 'PQRS']].drop_duplicates()\n",
    "\n",
    "pqrs_y = ndf16trunc_pqrs.loc[ndf16trunc_pqrs.PQRS == 'Y', :].PQRS.count()\n",
    "pqrs_n = ndf16trunc_pqrs.PQRS.isna().count()\n",
    "participation_rate_overall = pqrs_y/(pqrs_y + pqrs_n)\n",
    "print(participation_rate_overall)\n",
    "\n"
   ]
  },
  {
   "cell_type": "code",
   "execution_count": 8,
   "metadata": {},
   "outputs": [
    {
     "name": "stderr",
     "output_type": "stream",
     "text": [
      "C:\\ProgramData\\Anaconda3\\lib\\site-packages\\ipykernel_launcher.py:3: FutureWarning: The signature of `Series.to_csv` was aligned to that of `DataFrame.to_csv`, and argument 'header' will change its default value from False to True: please pass an explicit value to suppress this warning.\n",
      "  This is separate from the ipykernel package so we can avoid doing imports until\n"
     ]
    },
    {
     "data": {
      "text/plain": [
       "<bound method Series.to_frame of Documentation of Current Medications in the Medical Record                                                                    64975\n",
       "Preventive Care and Screening: Tobacco Use: Screening and Cessation Intervention                                              40383\n",
       "Pain Assessment and Follow-Up                                                                                                 34890\n",
       "Functional Outcome Assessment                                                                                                 26326\n",
       "Pneumonia Vaccination Status for Older Adults                                                                                 18801\n",
       "Preventive Care and Screening: Influenza Immunization                                                                         16161\n",
       "Colorectal Cancer Screening                                                                                                   14463\n",
       "Advance Care Plan                                                                                                             13699\n",
       "Use of High-Risk Medications in the Elderly                                                                                   12396\n",
       "Radiology: Exposure Time Reported for Procedures Using Fluoroscopy                                                             9873\n",
       "Radiology: Stenosis Measurement in Carotid Imaging Reports                                                                     9158\n",
       "Screening or Therapy for Osteoporosis for Women Aged 65 Years and Older                                                        9051\n",
       "Radiology: Reminder System for Screening Mammograms                                                                            7366\n",
       "Falls: Risk Assessment                                                                                                         4549\n",
       "Urinary Incontinence: Assessment of Presence or Absence of Urinary Incontinence in Women Aged 65 Years and Older               4231\n",
       "Falls: Plan of Care                                                                                                            3678\n",
       "Prevention of Central Venous Catheter (CVC)-Related Bloodstream Infections                                                     3155\n",
       "Nuclear Medicine: Correlation with Existing Imaging Studies for All Patients Undergoing Bone Scintigraphy                      2625\n",
       "Medication Reconciliation Post-Discharge                                                                                       2417\n",
       "Biopsy Follow-Up                                                                                                               2354\n",
       "Melanoma: Continuity of Care - Recall System                                                                                   2245\n",
       "Melanoma: Overutilization of Imaging Studies in Melanoma                                                                       2109\n",
       "Radiology: Inappropriate Use of \"Probably Benign\" Assessment Category in Mammography Screening                                 2053\n",
       "Elder Maltreatment Screen and Follow-Up Plan                                                                                   1493\n",
       "Adequacy of bowel preparation                                                                                                  1248\n",
       "Documentation of history and physical rate - Colonoscopy                                                                       1203\n",
       "Perioperative Care: Selection of Prophylactic Antibiotic - First OR Second Generation Cephalosporin                            1199\n",
       "Osteoarthritis (OA): Function and Pain Assessment                                                                              1172\n",
       "Perioperative Care: Discontinuation of Prophylactic Parenteral Antibiotics (Non-Cardiac Procedures)                            1147\n",
       "Perioperative Care: Venous Thromboembolism (VTE) Prophylaxis (When Indicated in ALL Patients)                                  1137\n",
       "                                                                                                                              ...  \n",
       "Rheumatoid Arthritis (RA): Functional Status Assessment                                                                          92\n",
       "Avoidance of Antibiotic Treatment in Adults With Acute Bronchitis                                                                91\n",
       "Breast Cancer: Hormonal Therapy for Stage IC - IIIC Estrogen Receptor/Progesterone Receptor (ER/PR) Positive Breast Cancer       89\n",
       "Glucocorticosteroids and Other Secondary Causes                                                                                  87\n",
       "Acute Otitis Externa (AOE): Topical Therapy                                                                                      78\n",
       "Appropriate management of anticoagulation in the peri-procedural period rate - EGD                                               70\n",
       "Functional Status Assessment for Patients with Rheumatoid Arthritis (RA)                                                         68\n",
       "Referral for Otologic Evaluation for Patients with Acute or Chronic Dizziness                                                    66\n",
       "Lung Cancer Reporting (Biopsy/Cytology Specimens)                                                                                59\n",
       "Melanoma Reporting                                                                                                               57\n",
       "Disease Activity Measurement for Patients with Rheumatoid Arthritis (RA)                                                         52\n",
       "Tobacco Use: Screening and Cessation Intervention                                                                                43\n",
       "Depression Screening                                                                                                             43\n",
       "Tuberculosis Prevention for Psoriasis and Psoriatic Arthritis Patients on a Biological Immune Response Modifier                  43\n",
       "Orthopedic 3-Month Surgery Follow-up                                                                                             40\n",
       "Anesthesia: Patient Experience Survey                                                                                            38\n",
       "Colorectal Cancer screening                                                                                                      37\n",
       "Cervical Cancer Screening                                                                                                        37\n",
       "CG-CAHPS Adult Visit Composite Tracking                                                                                          37\n",
       "Pneumococcal Vaccination in Elderly                                                                                              37\n",
       "Breast Cancer Screening                                                                                                          36\n",
       "Alcohol Misuse Screening                                                                                                         35\n",
       "Core temperature measurement for all general anesthetics                                                                         34\n",
       "Osteoporosis Screening for Women                                                                                                 33\n",
       "Zoster (Shingles) Vaccination                                                                                                    33\n",
       "Quality of Life (VR-12 or Promis Global 10) Monitoring                                                                           29\n",
       "Hematology: Myelodysplastic Syndrome (MDS) and Acute Leukemias: Baseline Cytogenetic Testing Performed on Bone Marrow            29\n",
       "MBSC Venous Thromboembolism prophylaxis adherence rates for Postoperative Care                                                   28\n",
       "MBSC Venous Thromboembolism prophylaxis adherence rates for Perioperative Care                                                   28\n",
       "Blood glucose check prior to hyperbaric oxygen therapy (HBOT) treatment                                                          23\n",
       "Name: measure_title, Length: 86, dtype: int64>"
      ]
     },
     "execution_count": 8,
     "metadata": {},
     "output_type": "execute_result"
    }
   ],
   "source": [
    "num_practitioners_per_measure = ips16.measure_title.value_counts()\n",
    "\n",
    "num_practitioners_per_measure.to_csv('../num_practitioners_per_measure.csv', index=True)\n",
    "#measure_names_descending_frequency = ips16.measure_title.value_counts().index\n",
    "\n",
    "#measure_names_descending_frequency_list = ips16.measure_title.value_counts().index.to_list()\n",
    "#ndf16trunc.loc[:, 'pri_spec'].value_counts().to_csv('../practitoners_per_specialty.csv', index=True)\n",
    "num_practitioners_per_specialty = ndf16trunc.loc[:, 'pri_spec'].value_counts()\n",
    "type(num_practitioners_per_measure.to_frame())\n",
    "num_practitioners_per_measure.to_frame"
   ]
  },
  {
   "cell_type": "code",
   "execution_count": null,
   "metadata": {
    "scrolled": true
   },
   "outputs": [],
   "source": [
    "pd.qcut(ips16.NPI, 86)\n",
    "num_practitioners_per_measure.index[0]\n",
    "ips16.measure_title == num_practitioners_per_measure.index[0]"
   ]
  },
  {
   "cell_type": "code",
   "execution_count": 29,
   "metadata": {},
   "outputs": [
    {
     "name": "stdout",
     "output_type": "stream",
     "text": [
      "23099461.0\n",
      "9846012.0\n",
      "10945338.0\n",
      "6729621.0\n",
      "3610827.0\n",
      "2716602.0\n",
      "1833340.0\n",
      "2466976.0\n",
      "4035150.0\n",
      "984763.0\n",
      "683333.0\n",
      "871024.0\n",
      "2837240.0\n",
      "242492.0\n",
      "446060.0\n",
      "173433.0\n",
      "193465.0\n",
      "125550.0\n",
      "105121.0\n",
      "176717.0\n",
      "140857.0\n",
      "131710.0\n",
      "885266.0\n",
      "139067.0\n",
      "837992.0\n",
      "803231.0\n",
      "119015.0\n",
      "228129.0\n",
      "114665.0\n",
      "65641.0\n",
      "79116.0\n",
      "580244.0\n",
      "26732.0\n",
      "32612.0\n",
      "34813.0\n",
      "308880.0\n",
      "212693.0\n",
      "29647.0\n",
      "43232.0\n",
      "16673.0\n",
      "20602.0\n",
      "11520.0\n",
      "182786.0\n",
      "10966.0\n",
      "19950.0\n",
      "8967.0\n",
      "4427255.0\n",
      "5391.0\n",
      "12171.0\n",
      "18036.0\n",
      "11487.0\n",
      "8151.0\n",
      "10786.0\n",
      "12555.0\n",
      "10243.0\n",
      "25018.0\n",
      "10948.0\n",
      "3850.0\n",
      "3936.0\n",
      "23141.0\n",
      "3635.0\n",
      "5646.0\n",
      "17664.0\n",
      "2418.0\n",
      "1389.0\n",
      "2673.0\n",
      "10352.0\n",
      "30483.0\n",
      "30483.0\n",
      "3647.0\n",
      "7414.0\n",
      "16315.0\n",
      "12418.0\n",
      "8224.0\n",
      "129932.0\n",
      "10052.0\n",
      "6425.0\n",
      "24616.0\n",
      "5581.0\n",
      "4999.0\n",
      "10176.0\n",
      "53450.0\n",
      "1090.0\n",
      "3094.0\n",
      "3286.0\n",
      "11343.0\n"
     ]
    }
   ],
   "source": [
    "for idx, row in enumerate(num_practitioners_per_measure.index):\n",
    "    print(ips16.loc[ips16.measure_title == row, :].patient_count.sum())\n",
    "\n",
    "#    print(row)\n",
    "\n",
    "#num_patients_top_measure = ips16.loc[ips16.measure_title == num_practitioners_per_measure.index[0],:].patient_count.sum()\n",
    "#num_patients_top_measure\n",
    "\n",
    "#def f(x):\n",
    "#    return ips16.loc[ips16.measure_title == x, :].patient_count\n",
    "\n",
    "\n",
    "\n",
    "#num_practitioners_per_measure.to_frame().apply(f)\n",
    "\n",
    "#ips16.loc[ips16.measure_title == num_practitioners_per_measure.to_frame(), :].patient_count.head()\n",
    "#num_practitioners_per_measure.to_frame()"
   ]
  },
  {
   "cell_type": "code",
   "execution_count": null,
   "metadata": {},
   "outputs": [],
   "source": [
    "\n",
    "num_patients_top_measure = ips16.loc[ips16.measure_title == num_practitioners_per_measure.index[0],:].patient_count.sum()\n",
    "num_patients_top_measure\n",
    "\n",
    "#ips16.loc[ips16.measure_title == num_practitioners_per_measure.index[50], 'patient_count'].sum()\n",
    "#ips16.loc[ips16.measure_title == num_practitioners_per_measure.index[0],:].patient_count.sum()"
   ]
  },
  {
   "cell_type": "code",
   "execution_count": null,
   "metadata": {},
   "outputs": [],
   "source": [
    "#isin(values)\tWhether each element in the DataFrame is contained in values.\n"
   ]
  },
  {
   "cell_type": "code",
   "execution_count": null,
   "metadata": {
    "scrolled": true
   },
   "outputs": [],
   "source": [
    "num_practitioners_per_measure.head()"
   ]
  },
  {
   "cell_type": "code",
   "execution_count": null,
   "metadata": {},
   "outputs": [],
   "source": [
    "num_unique_providers_in_ndf = ndf16t.NPI.drop_duplicates().count()\n",
    "num_unique_providers_in_ips = ips16.NPI.drop_duplicates().count()\n",
    "num_patients_treated = ips16.patient_count.sum()\n",
    "num_measures = ips16.measure_title.drop_duplicates().count()\n",
    "num_phys_specialties = ndf16t.pri_spec.drop_duplicates().count()\n",
    "\n",
    "num_unique_providers_in_ndf, num_unique_providers_in_ips, num_patients_treated, num_measures, num_phys_specialties"
   ]
  },
  {
   "cell_type": "code",
   "execution_count": null,
   "metadata": {},
   "outputs": [],
   "source": [
    "ips16.measure_title.drop_duplicates().count()"
   ]
  },
  {
   "cell_type": "code",
   "execution_count": null,
   "metadata": {},
   "outputs": [],
   "source": [
    "phys_specialties = ndf16t.pri_spec.drop_duplicates()\n",
    "med_schools = ndf16t.Med_sch.drop_duplicates()\n",
    "measure_num_name_pairs = ips16[['measure_ID', 'measure_title']].drop_duplicates()\n",
    "measure_num_name_pairs\n",
    "\n",
    "#med_schools.drop_duplicates().to_csv('../med_sch.csv', index=False)\n",
    "#measure_num_name_pairs.drop_duplicates().to_csv('../measuretitles.csv', index=False)\n",
    "#phys_specialties.drop_duplicates().to_csv('../phys_specialties.csv', index=False)\n",
    "\n",
    "#phys_specialties\n",
    "#ips16[ips16['NPI','measure_ID']]"
   ]
  },
  {
   "cell_type": "markdown",
   "metadata": {},
   "source": [
    "# Figure 1"
   ]
  },
  {
   "cell_type": "code",
   "execution_count": null,
   "metadata": {
    "scrolled": false
   },
   "outputs": [],
   "source": [
    "dy = np.linspace(1945,2020,16)\n",
    "a16 = pd.value_counts(ndf16.loc[(ndf16['PQRS']=='Y'),['NPI','Grd_yr']].drop_duplicates().dropna().Grd_yr, bins=dy, sort=False)\n",
    "b16 = pd.value_counts(ndf16[['NPI','Grd_yr']].drop_duplicates().dropna().Grd_yr, bins=dy, sort=False)\n",
    "c16 = a16/b16\n",
    "ax = c16.plot.bar(ylim=(0,0.7), title='Clinician Participation Rate vs Year of Terminal Degree (2016 Data)')\n",
    "ax.set(xlabel=\"Year of Clinician's Terminal Degree\", ylabel=\"Clinician participation rate\")"
   ]
  },
  {
   "cell_type": "markdown",
   "metadata": {},
   "source": [
    "# Figure 2"
   ]
  },
  {
   "cell_type": "code",
   "execution_count": null,
   "metadata": {},
   "outputs": [],
   "source": [
    "a16 = pd.value_counts(ndf16.loc[(ndf16['PQRS']=='Y'),['NPI','Grd_yr']].drop_duplicates().dropna().Grd_yr, bins=dy, sort=False)\n",
    "b16 = pd.value_counts(ndf16[['NPI','Grd_yr']].drop_duplicates().dropna().Grd_yr, bins=dy, sort=False)\n",
    "c16 = a16/b16\n",
    "ax = c16.plot.bar(ylim=(0,0.7), title='Clinician Participation Rate vs Year of Terminal Degree (2016 Data)')\n",
    "ax.set(xlabel=\"Year of Clinician's Terminal Degree\", ylabel=\"Clinician participation rate\")"
   ]
  },
  {
   "cell_type": "markdown",
   "metadata": {},
   "source": [
    "# Figure 3"
   ]
  },
  {
   "cell_type": "code",
   "execution_count": null,
   "metadata": {},
   "outputs": [],
   "source": [
    "ax = (c16/c15).iloc[0:13].plot.bar(ylim=(0.9,1.1), title='Participation rate change vs year of terminal degree (2016 data vs 2015 data)')\n",
    "ax.set(xlabel=\"Year of Clinician's Terminal Degree\", ylabel=\"Clinician participation rate year over year change\")\n",
    "#print((c16/c15).iloc[0:13])"
   ]
  },
  {
   "cell_type": "code",
   "execution_count": null,
   "metadata": {
    "scrolled": false
   },
   "outputs": [],
   "source": [
    "## This code section examines Pneumonia Vaccination Status for Older Adults\n",
    "## Need to explore weighting performance scores by patient count for 2016 data, will be interesting to contrast with the 2015 \n",
    "## data where patient count is not available\n",
    "\n",
    "a = ips16.loc[(ips16['measure_ID']=='PQRS_EP_111_1'),['NPI','prf_rate','patient_count']].drop_duplicates().dropna()\n",
    "\n",
    "b1 = ndf16.loc[(ndf16['pri_spec']=='INTERNAL MEDICINE'),['NPI']].drop_duplicates().dropna()\n",
    "c1 = pd.merge(a, b1, on='NPI')\n",
    "\n",
    "b2 = ndf16.loc[(ndf16['pri_spec']=='INFECTIOUS DISEASE'),['NPI']].drop_duplicates().dropna()\n",
    "c2 = pd.merge(a, b2, on='NPI')\n",
    "\n",
    "b3 = ndf16.loc[(ndf16['pri_spec']=='EMERGENCY MEDICINE'),['NPI']].drop_duplicates().dropna()\n",
    "c3 = pd.merge(a, b3, on='NPI')\n",
    "\n",
    "b4 = ndf16.loc[(ndf16['pri_spec']=='PULMONARY DISEASE'),['NPI']].drop_duplicates().dropna()\n",
    "c4 = pd.merge(a, b4, on='NPI')\n",
    "\n",
    "b5 = ndf16.loc[(ndf16['pri_spec']=='NURSE PRACTITIONER'),['NPI']].drop_duplicates().dropna()\n",
    "c5 = pd.merge(a, b5, on='NPI')\n",
    "\n",
    "b6 = ndf16.loc[(ndf16['pri_spec']=='MEDICAL ONCOLOGY'),['NPI']].drop_duplicates().dropna()\n",
    "c6 = pd.merge(a, b6, on='NPI')\n",
    "\n",
    "b7 = ndf16.loc[(ndf16['pri_spec']=='GENERAL PRACTICE'),['NPI']].drop_duplicates().dropna()\n",
    "c7 = pd.merge(a, b7, on='NPI')\n",
    "\n",
    "b8 = ndf16.loc[(ndf16['pri_spec']=='PHYSICIAN ASSISTANT'),['NPI']].drop_duplicates().dropna()\n",
    "c8 = pd.merge(a, b8, on='NPI')\n",
    "\n",
    "\n",
    "print(scipy.stats.describe(c1.prf_rate))\n",
    "print(scipy.stats.describe(c2.prf_rate))\n",
    "print(scipy.stats.describe(c3.prf_rate))\n",
    "print(scipy.stats.describe(c4.prf_rate))\n",
    "print(scipy.stats.describe(c5.prf_rate))\n",
    "print(scipy.stats.describe(c6.prf_rate))\n",
    "print(scipy.stats.describe(c7.prf_rate))\n",
    "print(scipy.stats.describe(c8.prf_rate))\n",
    "\n",
    "print(stats.ttest_ind(c1.prf_rate,c2.prf_rate,equal_var=False))\n",
    "print(stats.ttest_ind(c1.prf_rate,c3.prf_rate,equal_var=False))\n",
    "print(stats.ttest_ind(c1.prf_rate,c4.prf_rate,equal_var=False))\n",
    "print(stats.ttest_ind(c2.prf_rate,c3.prf_rate,equal_var=False))\n",
    "print(stats.ttest_ind(c2.prf_rate,c4.prf_rate,equal_var=False))\n",
    "print(stats.ttest_ind(c3.prf_rate,c4.prf_rate,equal_var=False))\n",
    "print(stats.ttest_ind(c5.prf_rate,c8.prf_rate,equal_var=False))\n",
    "print(stats.ttest_ind(c2.prf_rate,c7.prf_rate,equal_var=False))\n",
    "print(stats.ttest_ind(c1.prf_rate,c5.prf_rate,equal_var=False))\n",
    "print(stats.ttest_ind(c1.prf_rate,c8.prf_rate,equal_var=False))\n",
    "print(1-58.85706462212487/75.30104623692203)\n",
    "print(1-59.421996879875195/75.30104623692203)\n",
    "print(1-62.54601226993865/75.30104623692203)\n",
    "print(1-63.55072463768116/75.30104623692203)"
   ]
  },
  {
   "cell_type": "markdown",
   "metadata": {},
   "source": [
    "# Pneumonia Results"
   ]
  },
  {
   "cell_type": "markdown",
   "metadata": {},
   "source": [
    "# It has been estimated that the total annual excess cost of hospital-treated pneumonia as a primary diagnosis in the elderly fee-for-service Medicare population in 2010 exceeded 7 billion dollars.\n",
    "\n",
    "# Takeaways from the above cursory comparisons of how clinicians of one primary specialty perform relative to clinicians of another primary specialty regarding how they advise their patients on Pneumonia Vaccination. \n",
    "\n",
    "# Physician Assistants (PAs) and Nurse Practitioners (NPs) do similarly well (p = 0.57) but both do significantly poorer than those whose primary specialty was Internal Medicine, with mean score 20% lower\n",
    "\n",
    "# Surprisingly, those whose primary specialty was Infectious Disease did significantly worse than Internal Medicine (p = 3e-08, Infectious Disease mean score 17% lower) and  Pulmonary Disease (p = 2e-05, Infectious Disease mean score 16% lower), but similarly to General Medicine (p = 0.8).\n"
   ]
  },
  {
   "cell_type": "code",
   "execution_count": null,
   "metadata": {},
   "outputs": [],
   "source": [
    "female = df1.loc[(df1[\"Gender\"]==\"F\"), [\"Gender\"]]\n",
    "female_accept = df1.loc[(df1[\"Gender\"]==\"F\") & (df1[\"Professional accepts Medicare Assignment\"]==\"Y\"), [\"NPI\",\"PAC ID\",\"Medical school name\",\"Graduation year\"]]\n",
    "male = df1.loc[(df1[\"Gender\"]==\"M\"), [\"Gender\"]]\n",
    "male_accept = df1.loc[(df1[\"Gender\"]==\"M\") & (df1[\"Professional accepts Medicare Assignment\"]==\"Y\"), [\"NPI\",\"PAC ID\",\"Medical school name\",\"Graduation year\"]]\n",
    "am = df1.loc[(df1[\"Gender\"]==\"M\") & (df1[\"Professional accepts Medicare Assignment\"]==\"Y\"), [\"NPI\",\"Medical school name\",\"Graduation year\"]]\n",
    "af = df1.loc[(df1[\"Gender\"]==\"F\") & (df1[\"Professional accepts Medicare Assignment\"]==\"Y\"), [\"NPI\",\"Medical school name\",\"Graduation year\"]]\n",
    "df2_flu = df2.loc[(df2[\"Measure Title\"]==\"Preventive Care and Screening: Influenza Immunization\"),[\"NPI\",\"Measure Performance Rate\"]]\n",
    "df3_pneuvacc = df2.loc[(df2[\"Measure Title\"]==\"Pneumonia Vaccination Status for Older Adults\"),[\"NPI\",\"Measure Performance Rate\"]]\n",
    "df4_brcanc = df2.loc[(df2[\"Measure Title\"]==\"Breast Cancer Screening\"),[\"NPI\",\"Measure Performance Rate\"]]\n",
    "df5_colocanc = df2.loc[(df2[\"Measure Title\"]==\"Colorectal Cancer Screening\"),[\"NPI\",\"Measure Performance Rate\"]]\n",
    "df6_bmi = df2.loc[(df2[\"Measure Title\"]==\"Preventive Care and Screening: Body Mass Index (BMI) Screening and Follow-Up Plan\"),[\"NPI\",\"Measure Performance Rate\"]]\n",
    "df7_currmeds = df2.loc[(df2[\"Measure Title\"]==\"Documentation of Current Medications in the Medical Record\"),[\"NPI\",\"Measure Performance Rate\"]]\n",
    "df8_eldmal = df2.loc[(df2[\"Measure Title\"]==\"Elder Maltreatment Screen and Follow-Up Plan\"),[\"NPI\",\"Measure Performance Rate\"]]\n",
    "df9_tobacco = df2.loc[(df2[\"Measure Title\"]==\"Preventive Care and Screening: Tobacco Use: Screening and Cessation Intervention\"),[\"NPI\",\"Measure Performance Rate\"]]\n",
    "df10_osteo = df2.loc[(df2[\"Measure Title\"]==\"Screening or Therapy for Osteoporosis for Women Aged 65 Years and Older\"),[\"NPI\",\"Measure Performance Rate\"]]\n",
    "df11_ecg = df2.loc[(df2[\"Measure Title\"]==\"Emergency Medicine: 12-Lead Electrocardiogram (ECG) Performed for Non-Traumatic Chest Pain\"),[\"NPI\",\"Measure Performance Rate\"]]\n",
    "\n",
    "brcancm=pd.merge(am, df4_brcanc, on='NPI').drop_duplicates().dropna()\n",
    "brcancf=pd.merge(af, df4_brcanc, on='NPI').drop_duplicates().dropna()\n",
    "\n"
   ]
  },
  {
   "cell_type": "code",
   "execution_count": null,
   "metadata": {},
   "outputs": [],
   "source": [
    "colocanc_tobacco=pd.merge(ips15.loc[(ips15['measure_title']=='Colorectal Cancer Screening'),['NPI','prf_rate']],ips15.loc[(ips15['measure_title']=='Preventive Care and Screening: Tobacco Use: Screening and Cessation Intervention'),['NPI','prf_rate']], on='NPI').drop_duplicates().dropna()\n",
    "flu_pneuvacc=pd.merge(ips15.loc[(ips15['measure_title']=='Preventive Care and Screening: Influenza Immunization'),['NPI','prf_rate']],ips15.loc[(ips15['measure_title']=='Pneumonia Vaccination Status for Older Adults'),['NPI','prf_rate']], on='NPI').drop_duplicates().dropna()\n",
    "brcancm = pd.merge(ips15.loc[(ips15['measure_title']=='Breast Cancer Screening'),['NPI','prf_rate']],ndf15.loc[(ndf15.gndr=='M'),['NPI','Grd_yr']],on='NPI').drop_duplicates().dropna()\n",
    "brcancf = pd.merge(ips15.loc[(ips15['measure_title']=='Breast Cancer Screening'),['NPI','prf_rate']],ndf15.loc[(ndf15.gndr=='F'),['NPI','Grd_yr']],on='NPI').drop_duplicates().dropna()\n",
    "flum = pd.merge(ips15.loc[(ips15['measure_title']=='Preventive Care and Screening: Influenza Immunization'),['NPI','prf_rate']],ndf15.loc[(ndf15.gndr=='M'),['NPI','Grd_yr']],on='NPI').drop_duplicates().dropna()\n",
    "fluf = pd.merge(ips15.loc[(ips15['measure_title']=='Preventive Care and Screening: Influenza Immunization'),['NPI','prf_rate']],ndf15.loc[(ndf15.gndr=='F'),['NPI','Grd_yr']],on='NPI').drop_duplicates().dropna()"
   ]
  },
  {
   "cell_type": "markdown",
   "metadata": {},
   "source": [
    "# Figure 4"
   ]
  },
  {
   "cell_type": "code",
   "execution_count": null,
   "metadata": {},
   "outputs": [],
   "source": [
    "ax = colocanc_tobacco.plot.scatter(x='prf_rate_x',y='prf_rate_y',title='Coincidence of performance scores in Colon Cancer Prevention and Smoking Intervention')\n",
    "ax.set(xlabel='Colon Cancer Screening performance rate', ylabel='Smoking Intervention')\n",
    "print(scipy.stats.describe(colocanc_tobacco.prf_rate_x))\n",
    "print(scipy.stats.describe(colocanc_tobacco.prf_rate_y))\n",
    "print(stats.ttest_ind(colocanc_tobacco.prf_rate_x,colocanc_tobacco.prf_rate_y,equal_var=False))"
   ]
  },
  {
   "cell_type": "markdown",
   "metadata": {},
   "source": [
    "# Statistical analysis confirms the surprising result seen above. Clinicians who had scores in both categories did an excellent job of counseling their patients with regards to Smoking Cessation (mean value ~95), but those same clinicians did much more poorly when it came to Colorectal Cancer Screening (mean value ~56). Colorectal cancers affect mosly older adults, and the prognosis of those suffering from such cancers drops sharply with disease progression. "
   ]
  },
  {
   "cell_type": "markdown",
   "metadata": {},
   "source": [
    "# Figure 5"
   ]
  },
  {
   "cell_type": "code",
   "execution_count": null,
   "metadata": {},
   "outputs": [],
   "source": [
    "fig=plt.figure()\n",
    "fig.suptitle('Clinician Performance Score for Breast Cancer Screening', fontsize=20)\n",
    "plt.xlabel('Clinician Graduation Year')\n",
    "plt.ylabel('Performance Score')\n",
    "ax1=plt.scatter(brcancm.Grd_yr, brcancm.prf_rate, c='blue', s=0.4, label='Male')\n",
    "ax2=plt.scatter(brcancf.Grd_yr, brcancf.prf_rate, c='red', s=0.4, label='Female')\n",
    "plt.gca().legend()\n",
    "plt.show()"
   ]
  },
  {
   "cell_type": "markdown",
   "metadata": {},
   "source": [
    "# Figure 6"
   ]
  },
  {
   "cell_type": "code",
   "execution_count": null,
   "metadata": {},
   "outputs": [],
   "source": [
    "fig=plt.figure()\n",
    "fig.suptitle('Clinician Performance Score for Breast Cancer Screening',fontsize=20)\n",
    "plt.xlabel('Performance Score for Breast Cancer Screening')\n",
    "plt.ylabel('Normalized Frequency')\n",
    "ax1=plt.hist(brcancm.prf_rate, label=\"Male\", bins=dp, color='blue', normed=True)\n",
    "ax2=plt.hist(brcancf.prf_rate, label=\"Female\", bins=dp, color='red', normed=True, alpha=0.25)\n",
    "plt.gca().legend()\n",
    "plt.show()\n",
    "print(stats.ttest_ind(brcancm.prf_rate,brcancf.prf_rate,equal_var=False))\n",
    "print(scipy.stats.describe(brcancm.prf_rate))\n",
    "print(scipy.stats.describe(brcancf.prf_rate))\n",
    "print(1-57.528294367693945/63.06273836765828)"
   ]
  },
  {
   "cell_type": "markdown",
   "metadata": {},
   "source": [
    "# Female clinicians perform significantly (p = 1e-31) better at Breast Cancer Screening than do their Male counterparts, with the Male mean score ~9% lower than that of the Female mean score. "
   ]
  },
  {
   "cell_type": "markdown",
   "metadata": {},
   "source": [
    "# Figure 7"
   ]
  },
  {
   "cell_type": "code",
   "execution_count": null,
   "metadata": {},
   "outputs": [],
   "source": [
    "fig=plt.figure()\n",
    "fig.suptitle('Clinician Performance Score for Influenza Administration', fontsize=20)\n",
    "plt.xlabel('Clinician Graduation Year')\n",
    "plt.ylabel('Performance Score')\n",
    "ax1=plt.scatter(flum.Grd_yr, flum.prf_rate, c='blue', s=0.4, label='Male')\n",
    "ax2=plt.scatter(fluf.Grd_yr, fluf.prf_rate, c='red', s=0.4, label='Female')\n",
    "plt.gca().legend()\n",
    "plt.show()"
   ]
  },
  {
   "cell_type": "markdown",
   "metadata": {},
   "source": [
    "# Figure 8"
   ]
  },
  {
   "cell_type": "code",
   "execution_count": null,
   "metadata": {},
   "outputs": [],
   "source": [
    "fig=plt.figure()\n",
    "fig.suptitle('Clinician Performance Score for Influenza Immunization',fontsize=20)\n",
    "plt.xlabel('Score for Influenza Immunization')\n",
    "plt.ylabel('Normalized Frequency')\n",
    "ax1=plt.hist(flum.prf_rate, label=\"Male\", bins=dp, color='blue', normed=True)\n",
    "ax2=plt.hist(fluf.prf_rate, label=\"Female\", bins=dp, color='red', normed=True, alpha=0.25)\n",
    "plt.gca().legend()\n",
    "plt.show()\n",
    "print(stats.ttest_ind(flum.prf_rate,fluf.prf_rate,equal_var=False))\n",
    "print(scipy.stats.describe(flum.prf_rate))\n",
    "print(scipy.stats.describe(fluf.prf_rate))\n",
    "print(1-scipy.stats.describe(flum.prf_rate).mean/scipy.stats.describe(fluf.prf_rate).mean)"
   ]
  },
  {
   "cell_type": "markdown",
   "metadata": {},
   "source": [
    "# Female clinicians perform significantly (p = 7e-08) better at Influenza Immunization than do their Male counterparts, with the Male mean score ~5% lower than that of the Female mean score."
   ]
  },
  {
   "cell_type": "code",
   "execution_count": null,
   "metadata": {},
   "outputs": [],
   "source": [
    "dy = np.linspace(1945,2020,16)\n",
    "a15 = pd.value_counts(ndf15.loc[(ndf15['PQRS']=='Y'),['NPI','Grd_yr']].drop_duplicates().dropna().Grd_yr, bins=dy, sort=False)\n",
    "b15 = pd.value_counts(ndf15[['NPI','Grd_yr']].drop_duplicates().dropna().Grd_yr, bins=dy, sort=False)\n",
    "c15 = a15/b15\n",
    "ax = c15.plot.bar(ylim=(0,0.7), title='Clinician Participation Rate vs Year of Terminal Degree (2015 Data)')\n",
    "ax.set(xlabel=\"Year of Clinician's Terminal Degree\", ylabel=\"Clinician participation rate\")"
   ]
  },
  {
   "cell_type": "markdown",
   "metadata": {},
   "source": [
    "# Figure 9"
   ]
  },
  {
   "cell_type": "code",
   "execution_count": null,
   "metadata": {},
   "outputs": [],
   "source": [
    "ax = flu_pneuvacc.plot.scatter(x='prf_rate_x',y='prf_rate_y',title='Coincidence of performance scores in Influenza Immunization and Pneumonia Vaccination')\n",
    "ax.set(xlabel='Influenza Immunization Score', ylabel='Pneumonia Vaccination Score')\n",
    "print(scipy.stats.describe(flu_pneuvacc.prf_rate_x))\n",
    "print(scipy.stats.describe(flu_pneuvacc.prf_rate_y))\n",
    "print(stats.ttest_ind(flu_pneuvacc.prf_rate_x,flu_pneuvacc.prf_rate_y,equal_var=False))\n",
    "print(1-scipy.stats.describe(flu_pneuvacc.prf_rate_x).mean/scipy.stats.describe(flu_pneuvacc.prf_rate_y).mean)"
   ]
  },
  {
   "cell_type": "markdown",
   "metadata": {},
   "source": [
    "# On average clinicians do a significantly worse (p = 4e-237) job counseling their patients regarding Influenza Vaccination (mean score = 50.8, 18% lower than for Pneumonia Vaccination) than they do regarding Pneumonia Vaccination (mean score = 61.8). "
   ]
  },
  {
   "cell_type": "markdown",
   "metadata": {},
   "source": [
    "# In Progress, need to vectorize loops(!) and extend into the measure_ID dimension"
   ]
  },
  {
   "cell_type": "code",
   "execution_count": null,
   "metadata": {},
   "outputs": [],
   "source": [
    "## This section collects descriptive statistics on the performance data of clinicians by their primary specialty, generating a\n",
    "## dataframe in which the columns are specialties and the columns are the various measurement categories covered by the PQRS\n",
    "## As of now this works on only a single category, and compares clinician primary specialties within that category.\n",
    "## This needs to be vectorized badly, extremely slow as nested for loops.\n",
    "\n",
    "spec_list = ndf15.pri_spec.unique()\n",
    "measure_ID_list = ips15.measure_ID.unique()\n",
    "spec_mid_descstat = pd.DataFrame(index=np.arange(0, len(spec_list)), columns=measure_ID_list)\n",
    "\n",
    "for i in range(0, len(measure_ID_list)):\n",
    "    a = ips15.loc[(ips15['measure_ID']==measure_ID_list[i]),['NPI', 'prf_rate', 'patient_count']].drop_duplicates().dropna()\n",
    "    for j in range(0, len(spec_list)):\n",
    "        b = ndf15.loc[(ndf15['pri_spec']==spec_list[j]),['NPI']].drop_duplicates().dropna()\n",
    "        c = pd.merge(a, b, on='NPI')\n",
    "        if not c.prf_rate.empty:\n",
    "            d = scipy.stats.describe(c.prf_rate)\n",
    "            e = c.patient_count.sum()\n",
    "            spec_mid_descstat.iat[j,i] = d\n"
   ]
  },
  {
   "cell_type": "code",
   "execution_count": null,
   "metadata": {},
   "outputs": [],
   "source": [
    "## Ttests between specialties for a given performance measure\n",
    "\n",
    "spec_mid_ttests = pd.DataFrame(index=spec_list, columns=spec_list)\n",
    "\n",
    "for i in range(0, len(spec_list)):\n",
    "    for j in range(0, len(spec_list)):\n",
    "        if not pd.isnull(spec_mid_descstat.iat[i,0])|pd.isnull(spec_mid_descstat.iat[j,0]) :\n",
    "            d = scipy.stats.ttest_ind_from_stats(mean1=spec_mid_descstat.iat[i,0].mean, std1=np.sqrt(spec_mid_descstat.iat[i,0].variance), nobs1=spec_mid_descstat.iat[i,0].nobs, mean2=spec_mid_descstat.iat[j,0].mean, std2=np.sqrt(spec_mid_descstat.iat[j,0].variance), nobs2=spec_mid_descstat.iat[j,0].nobs, equal_var=False)\n",
    "            spec_mid_ttests.iat[j,i] = d\n",
    "        else:\n",
    "            spec_mid_ttests.iat[j,i] = d"
   ]
  },
  {
   "cell_type": "code",
   "execution_count": null,
   "metadata": {},
   "outputs": [],
   "source": [
    "#spec_mid_ttests\n",
    "# Construct heatmap using pvalues?\n",
    "spec_mid_ttests.iat[3,0].pvalue"
   ]
  },
  {
   "cell_type": "code",
   "execution_count": null,
   "metadata": {},
   "outputs": [],
   "source": []
  }
 ],
 "metadata": {
  "kernelspec": {
   "display_name": "Python 3",
   "language": "python",
   "name": "python3"
  },
  "language_info": {
   "codemirror_mode": {
    "name": "ipython",
    "version": 3
   },
   "file_extension": ".py",
   "mimetype": "text/x-python",
   "name": "python",
   "nbconvert_exporter": "python",
   "pygments_lexer": "ipython3",
   "version": "3.7.1"
  }
 },
 "nbformat": 4,
 "nbformat_minor": 2
}
